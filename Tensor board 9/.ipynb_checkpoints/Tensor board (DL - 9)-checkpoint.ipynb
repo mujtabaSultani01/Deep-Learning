{
 "cells": [
  {
   "cell_type": "markdown",
   "id": "37eb4a37",
   "metadata": {},
   "source": [
    "## Tensor board\n",
    "**TensorBoard** is a tool used for visualization in deep learning. It allows users to visualize data such as model graphs, scalar values, histograms, images, audio, and text. TensorBoard can help to identify patterns, debug models, and compare different runs of the same model. It provides useful visualizations that can facilitate better understanding of neural networks and help to improve their performance.\n",
    "* TensorBoard is a tool that allow you to debug the issues with neural network."
   ]
  },
  {
   "cell_type": "markdown",
   "id": "d75f26d6",
   "metadata": {},
   "source": [
    "**So here we use the repeated source code which is a basic neural netwok for classification of hand written digits. Using that source code we want to look at some of the internal of the implemented neural network** "
   ]
  },
  {
   "cell_type": "code",
   "execution_count": 1,
   "id": "bd8b620a",
   "metadata": {},
   "outputs": [],
   "source": [
    "# Required libraries...\n",
    "import tensorflow as tf\n",
    "from tensorflow import keras\n",
    "import matplotlib.pyplot as plt\n",
    "%matplotlib inline\n",
    "import numpy as np"
   ]
  },
  {
   "cell_type": "code",
   "execution_count": 2,
   "id": "2af433ca",
   "metadata": {},
   "outputs": [],
   "source": [
    "# Let's first load the hand written digits from keras datasets:\n",
    "(x_train, y_train), (x_test, y_test) = keras.datasets.mnist.load_data()"
   ]
  },
  {
   "cell_type": "code",
   "execution_count": 3,
   "id": "886f9611",
   "metadata": {},
   "outputs": [
    {
     "data": {
      "text/plain": [
       "60000"
      ]
     },
     "execution_count": 3,
     "metadata": {},
     "output_type": "execute_result"
    }
   ],
   "source": [
    "# To see the lenght of x_train:\n",
    "len(x_train)"
   ]
  },
  {
   "cell_type": "code",
   "execution_count": 4,
   "id": "dec3fee3",
   "metadata": {},
   "outputs": [
    {
     "data": {
      "text/plain": [
       "10000"
      ]
     },
     "execution_count": 4,
     "metadata": {},
     "output_type": "execute_result"
    }
   ],
   "source": [
    "# To check the lenght of x_test\n",
    "len(x_test)"
   ]
  },
  {
   "cell_type": "code",
   "execution_count": 5,
   "id": "4f3bd134",
   "metadata": {},
   "outputs": [
    {
     "data": {
      "text/plain": [
       "(28, 28)"
      ]
     },
     "execution_count": 5,
     "metadata": {},
     "output_type": "execute_result"
    }
   ],
   "source": [
    "# The shape of single image is:\n",
    "x_train[0].shape"
   ]
  },
  {
   "cell_type": "code",
   "execution_count": 6,
   "id": "d123d152",
   "metadata": {},
   "outputs": [
    {
     "data": {
      "text/plain": [
       "<matplotlib.image.AxesImage at 0x1ef190a4100>"
      ]
     },
     "execution_count": 6,
     "metadata": {},
     "output_type": "execute_result"
    },
    {
     "data": {
      "image/png": "[encoded data removed]",
      "text/plain": [
       "<Figure size 288x288 with 1 Axes>"
      ]
     },
     "metadata": {
      "needs_background": "light"
     },
     "output_type": "display_data"
    }
   ],
   "source": [
    "# To display a specific image, so we use matshow function from matplolib library:\n",
    "plt.matshow(x_train[2])"
   ]
  },
  {
   "cell_type": "code",
   "execution_count": 7,
   "id": "57f24b6b",
   "metadata": {},
   "outputs": [],
   "source": [
    "# The next step is scalling the data which has more effect on model accuracy. So to scall the values, as we know that each\n",
    "# individual value is in range [0 to 255], so if we divide this whole array into 255, then it will be scalled from 0 to 1.\n",
    "x_train = x_train / 255\n",
    "x_test = x_test / 255"
   ]
  },
  {
   "cell_type": "code",
   "execution_count": 8,
   "id": "77c77d05",
   "metadata": {},
   "outputs": [],
   "source": [
    "# So we need to flatten the 2D array into single dimension array, for that we do as follow:\n",
    "x_train_flattened = x_train.reshape(len(x_train), 28*28)\n",
    "x_test_flattened = x_test.reshape(len(x_test), 28*28)"
   ]
  },
  {
   "cell_type": "code",
   "execution_count": 10,
   "id": "f7552f7d",
   "metadata": {},
   "outputs": [
    {
     "data": {
      "text/plain": [
       "(60000, 784)"
      ]
     },
     "execution_count": 10,
     "metadata": {},
     "output_type": "execute_result"
    }
   ],
   "source": [
    "# Now if we check the shape of dataset, we see that it's single dimension array:\n",
    "x_train_flattened.shape"
   ]
  },
  {
   "cell_type": "code",
   "execution_count": 11,
   "id": "d3fc1ef8",
   "metadata": {},
   "outputs": [
    {
     "name": "stdout",
     "output_type": "stream",
     "text": [
      "Epoch 1/5\n",
      "1875/1875 [==============================] - 5s 3ms/step - loss: 0.2719 - accuracy: 0.9228\n",
      "Epoch 2/5\n",
      "1875/1875 [==============================] - 4s 2ms/step - loss: 0.1190 - accuracy: 0.9653\n",
      "Epoch 3/5\n",
      "1875/1875 [==============================] - 5s 2ms/step - loss: 0.0833 - accuracy: 0.9746\n",
      "Epoch 4/5\n",
      "1875/1875 [==============================] - 5s 3ms/step - loss: 0.0637 - accuracy: 0.9808\n",
      "Epoch 5/5\n",
      "1875/1875 [==============================] - 5s 2ms/step - loss: 0.0500 - accuracy: 0.9846\n"
     ]
    },
    {
     "data": {
      "text/plain": [
       "<keras.callbacks.History at 0x1ef17b0c730>"
      ]
     },
     "execution_count": 11,
     "metadata": {},
     "output_type": "execute_result"
    }
   ],
   "source": [
    "# The next thing is, if you don't want to flatten your array, keras come with a function called 'flatten' which do the same for you.\n",
    "model = keras.Sequential([\n",
    "    keras.layers.Flatten(input_shape=(28, 28)),\n",
    "    keras.layers.Dense(100, activation='relu'),\n",
    "    keras.layers.Dense(10, activation='sigmoid')\n",
    "])\n",
    "\n",
    "model.compile(optimizer='adam',\n",
    "              loss='sparse_categorical_crossentropy',\n",
    "              metrics=['accuracy'])\n",
    "\n",
    "model.fit(x_train, y_train, epochs=5)"
   ]
  },
  {
   "cell_type": "code",
   "execution_count": 15,
   "id": "9f848d75",
   "metadata": {},
   "outputs": [
    {
     "name": "stdout",
     "output_type": "stream",
     "text": [
      "Epoch 1/5\n",
      "1875/1875 [==============================] - 5s 3ms/step - loss: 0.2755 - accuracy: 0.9219\n",
      "Epoch 2/5\n",
      "1875/1875 [==============================] - 5s 2ms/step - loss: 0.1260 - accuracy: 0.9635\n",
      "Epoch 3/5\n",
      "1875/1875 [==============================] - 5s 2ms/step - loss: 0.0880 - accuracy: 0.9736\n",
      "Epoch 4/5\n",
      "1875/1875 [==============================] - 4s 2ms/step - loss: 0.0693 - accuracy: 0.9786\n",
      "Epoch 5/5\n",
      "1875/1875 [==============================] - 5s 3ms/step - loss: 0.0532 - accuracy: 0.9833\n"
     ]
    },
    {
     "data": {
      "text/plain": [
       "<keras.callbacks.History at 0x1ef3ef44400>"
      ]
     },
     "execution_count": 15,
     "metadata": {},
     "output_type": "execute_result"
    }
   ],
   "source": [
    "# So now we see the result of my model training (loss, accuracy) but it's not much clear, if we want to see the model\n",
    "# accuracy that how it's going up and model loss how it's become low per each epoch, so tensor board provide that nice graph\n",
    "# for us. Tensor board provide some different functionality, this is one of them.\n",
    "# So we define the tensor board callbacks, which create log directory for saving all the logs. and then we supply it to the\n",
    "# fit function. Now when the tensorflow is running the training, it will use this call back and it will supply all the \n",
    "# information (loss, accuracy ...) per epoch to 'tb_callback' and 'tb_callback' will log all those events in the log \n",
    "# directory.\n",
    "\n",
    "model = keras.Sequential([\n",
    "    keras.layers.Flatten(input_shape=(28, 28)),\n",
    "    keras.layers.Dense(100, activation='relu'),\n",
    "    keras.layers.Dense(10, activation='sigmoid')\n",
    "])\n",
    "\n",
    "model.compile(optimizer='adam',\n",
    "              loss='sparse_categorical_crossentropy',\n",
    "              metrics=['accuracy'])\n",
    "\n",
    "tb_callback = tf.keras.callbacks.TensorBoard(log_dir=\"logs/\", histogram_freq=1)\n",
    "\n",
    "model.fit(x_train, y_train, epochs=5, callbacks=[tb_callback])"
   ]
  },
  {
   "cell_type": "code",
   "execution_count": null,
   "id": "f2969ce1",
   "metadata": {},
   "outputs": [],
   "source": [
    "# So now the 'logs' directory is created. To see better visualization of thei train process we go to the same directory \n",
    "# through CMD or GitBash and run the 'tensorboard --logdir logs/' command. It will give you a URL, copy it and past it in \n",
    "# browser, so it will luch the tensorboard. So then we can see how the accuracy is increasing in each epoch. When you close\n",
    "# the mouse to the graph, it will tell everything in each epoch. You can also check the Graphs menu to see the graphs which\n",
    "# will tell you about all layers, used functions, and input sizes. Histogram will basically show you the weights (kernals) \n",
    "# and bias as well as number of epochs.\n",
    "# So this type of visualization will help us to debug the neural networks.\n",
    "\n",
    "# The other way of lunching tensorbord inside Jupyter notebook is to implement the following commad:\n",
    "\n",
    "#%load_ext tensorboard\n",
    "#%tensorboard --logdir logs/fit\n",
    "\n",
    "# Both the ways are working but in separate URL through CMD will be better."
   ]
  },
  {
   "cell_type": "code",
   "execution_count": 16,
   "id": "7ccdd523",
   "metadata": {},
   "outputs": [
    {
     "name": "stdout",
     "output_type": "stream",
     "text": [
      "Epoch 1/5\n",
      "1875/1875 [==============================] - 6s 3ms/step - loss: 0.6692 - accuracy: 0.8302\n",
      "Epoch 2/5\n",
      "1875/1875 [==============================] - 6s 3ms/step - loss: 0.3426 - accuracy: 0.9043\n",
      "Epoch 3/5\n",
      "1875/1875 [==============================] - 6s 3ms/step - loss: 0.2946 - accuracy: 0.9165\n",
      "Epoch 4/5\n",
      "1875/1875 [==============================] - 6s 3ms/step - loss: 0.2647 - accuracy: 0.9250\n",
      "Epoch 5/5\n",
      "1875/1875 [==============================] - 6s 3ms/step - loss: 0.2418 - accuracy: 0.9316\n"
     ]
    },
    {
     "data": {
      "text/plain": [
       "<keras.callbacks.History at 0x1ef404011c0>"
      ]
     },
     "execution_count": 16,
     "metadata": {},
     "output_type": "execute_result"
    }
   ],
   "source": [
    "# Now we want to change the 'optimizer = 'Adam'' parameter and store the result in the log directory but in separate dir:\n",
    "model = keras.Sequential([\n",
    "    keras.layers.Flatten(input_shape=(28, 28)),\n",
    "    keras.layers.Dense(100, activation='relu'),\n",
    "    keras.layers.Dense(10, activation='sigmoid')\n",
    "])\n",
    "\n",
    "model.compile(optimizer='SGD',\n",
    "              loss='sparse_categorical_crossentropy',\n",
    "              metrics=['accuracy'])\n",
    "\n",
    "tb_callback = tf.keras.callbacks.TensorBoard(log_dir=\"logs/SGD\", histogram_freq=1)\n",
    "\n",
    "model.fit(x_train, y_train, epochs=5, callbacks=[tb_callback])"
   ]
  },
  {
   "cell_type": "markdown",
   "id": "4556d598",
   "metadata": {},
   "source": [
    "* **So now we can choose one of them or both of them to compare the performance. We can uncheck the train option and compare the performance of the two optimizer.**"
   ]
  }
 ],
 "metadata": {
  "kernelspec": {
   "display_name": "Python 3 (ipykernel)",
   "language": "python",
   "name": "python3"
  },
  "language_info": {
   "codemirror_mode": {
    "name": "ipython",
    "version": 3
   },
   "file_extension": ".py",
   "mimetype": "text/x-python",
   "name": "python",
   "nbconvert_exporter": "python",
   "pygments_lexer": "ipython3",
   "version": "3.9.12"
  }
 },
 "nbformat": 4,
 "nbformat_minor": 5
}
