{
 "cells": [
  {
   "cell_type": "markdown",
   "id": "d8632ebc",
   "metadata": {},
   "source": [
    "## Long-Short Term Memory (LSTM)\n",
    "**Long Short-Term Memory (LSTM)** is a type of recurrent neural network that is used for sequence modeling. It has the ability to remember information for long periods of time and can learn from contextual data. It consists of three components, namely the memory cell, input gate, and output gate. The memory cell stores information and updates itself based on the input and output gates. The input gate decides which information is stored in the memory cell and the output gate determines what information is outputted. LSTM can be used for various tasks such as classification, translation, and speech recognition.\n",
    "\n",
    "The **Long Short-Term Memory (LSTM) gate mechanism** consists of three components: the input gate, the forget gate, and the output gate. The input gate decides what information should be stored in the memory cell, while the forget gate determines what information should be discarded. Finally, the output gate determines what information should be outputted. Each gate is composed of a sigmoid layer and a pointwise multiplication operation. The sigmoid layer produces a value between 0 and 1 which is then multiplied by the input to determine how much of that input should be stored or forgotten. The output of the gates is then used to update the memory cell."
   ]
  },
  {
   "cell_type": "markdown",
   "id": "d190a155",
   "metadata": {},
   "source": [
    "<img src = \"img1.jpg\" width = \"800px\" height = \"600px\"></img>"
   ]
  }
 ],
 "metadata": {
  "kernelspec": {
   "display_name": "Python 3 (ipykernel)",
   "language": "python",
   "name": "python3"
  },
  "language_info": {
   "codemirror_mode": {
    "name": "ipython",
    "version": 3
   },
   "file_extension": ".py",
   "mimetype": "text/x-python",
   "name": "python",
   "nbconvert_exporter": "python",
   "pygments_lexer": "ipython3",
   "version": "3.9.12"
  }
 },
 "nbformat": 4,
 "nbformat_minor": 5
}
