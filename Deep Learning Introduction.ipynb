{
 "cells": [
  {
   "cell_type": "markdown",
   "id": "087bf0c9",
   "metadata": {},
   "source": [
    "## Deep Learning \n",
    "**Deep learning (DL)** is a subset of machine learning that uses deep neural networks. These networks are composed of many layers of neurons, and can learn complex patterns by analyzing data. Or **Deep learning** is a subset of machine learning that uses a large number of artificial neurons, or “neurons,” to learn patterns in data.\n",
    "\n",
    "The reasons why DL is picking up and very important are as follow:\n",
    "1. Data Growth\n",
    "2. Advancement in Hardware\n",
    "3. Python & Open Source Ecosystem\n",
    "4. Cloud & AI Boom\n",
    "\n",
    "### Tensorflow Installation\n",
    "We have two ways to install tensorflow:\n",
    "1. Within Anaconda: When you install Anaconda, it will basically intall not only tensorflow but other necessary libraries.\n",
    "2. Plain Python: Use 'pip install tensorflow' command to install the tensorflow.\n",
    "\n",
    "* **Note:** Be careful to have only one Python installation when installing tensorflow, in other case it will create much issues. The better and proposed way is to install **Anaconda** and then lunch tensorflow.\n",
    "\n",
    "### Pytorch Vs Tensorflow Vs Keras\n",
    "**Pytorch** is a Python-based open-source deep learning library. It offers high-performance computing support and supports deep learning models with multiple layers. **TensorFlow** is a free and open-source software library for data analysis and machine learning. It offers high-performance computing support and supports deep learning models with multiple layers. **Keras** is a high-level neural networks library written in Python. It offers easy to use API and supports deep learning models with multiple layers.\n",
    "* Both Pytorch & Tensorflow are two most popular DL frameworks. Pytorch is by Facebook and Tensorflow is by Google. Keras is not a ful place DL framework like pytorch and tensorflow. Keras is a wrapper around tensorflow, CNTK and theano. It means Keras has these three at the backend, so previously when people were using tensorflow or CNTK directly, the programming in these framework was not that easy, it was little difficult. So the Keras is created as wrapper around these libraries and it just provided a convinence."
   ]
  }
 ],
 "metadata": {
  "kernelspec": {
   "display_name": "Python 3 (ipykernel)",
   "language": "python",
   "name": "python3"
  },
  "language_info": {
   "codemirror_mode": {
    "name": "ipython",
    "version": 3
   },
   "file_extension": ".py",
   "mimetype": "text/x-python",
   "name": "python",
   "nbconvert_exporter": "python",
   "pygments_lexer": "ipython3",
   "version": "3.9.12"
  }
 },
 "nbformat": 4,
 "nbformat_minor": 5
}
