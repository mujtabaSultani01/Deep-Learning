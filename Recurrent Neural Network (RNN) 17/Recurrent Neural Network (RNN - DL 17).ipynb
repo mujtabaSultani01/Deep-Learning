{
 "cells": [
  {
   "cell_type": "markdown",
   "id": "62a76dc1",
   "metadata": {},
   "source": [
    "## Recurrent Neural Network\n",
    "**Recurrent Neural Networks (RNNs)** are a type of deep learning algorithm that are used to process sequential data, such as text or time series data. They have been widely used in natural language processing tasks such as machine translation, text summarization, and sentiment analysis. RNNs are also used for time series tasks such as predicting stock prices or forecasting weather.\n",
    "\n",
    "* **CNN is mainly use for image classifiation task.**\n",
    "* **RNN is mainly use for Natural Language Processing (NLP) tasks.**"
   ]
  },
  {
   "cell_type": "markdown",
   "id": "0879687a",
   "metadata": {},
   "source": [
    "### Vanishing & Exploding Gradients Problem\n",
    "**Vanishing Gradient** is a common problem encounter during neural network training. It can effect Neural Network (NN) and RNN.\n"
   ]
  },
  {
   "cell_type": "code",
   "execution_count": null,
   "id": "1881e041",
   "metadata": {},
   "outputs": [],
   "source": []
  }
 ],
 "metadata": {
  "kernelspec": {
   "display_name": "Python 3 (ipykernel)",
   "language": "python",
   "name": "python3"
  },
  "language_info": {
   "codemirror_mode": {
    "name": "ipython",
    "version": 3
   },
   "file_extension": ".py",
   "mimetype": "text/x-python",
   "name": "python",
   "nbconvert_exporter": "python",
   "pygments_lexer": "ipython3",
   "version": "3.9.12"
  }
 },
 "nbformat": 4,
 "nbformat_minor": 5
}
