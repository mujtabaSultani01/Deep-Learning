{
 "cells": [
  {
   "cell_type": "markdown",
   "id": "a622bea0",
   "metadata": {},
   "source": [
    "## Convolutional Neural Network CNN\n",
    "A **convolutional neural network (CNN)** is a type of deep learning algorithm that uses multiple layers of convolutional filters to learn patterns in data and make predictions. CNNs are often used for computer vision tasks such as image classification, object detection, and segmentation.\n",
    "\n",
    "Computer vision is the field of computer science that deals with how computers can be made to understand and interpret visual data. It involves using algorithms and techniques to extract information from images and videos to recognize objects, detect patterns, and track movements.\n",
    "\n",
    "**Disadvantages of using ANN for image classification**\n",
    "   \n",
    "    1. Too much computation\n",
    "    2. Treats local pixesl same as pixels far apart\n",
    "    3. Sensitive to location of an object in an image."
   ]
  },
  {
   "cell_type": "markdown",
   "id": "370f980e",
   "metadata": {},
   "source": [
    "<img src =\"img.png\" width = \"800px\" height = \"400px\"></img>"
   ]
  },
  {
   "cell_type": "markdown",
   "id": "c5a84a99",
   "metadata": {},
   "source": [
    "### CNN Working procedure"
   ]
  },
  {
   "cell_type": "markdown",
   "id": "609790e2",
   "metadata": {},
   "source": [
    "<img src =\"img1.png\" width = \"800px\" height = \"500px\"></img>"
   ]
  },
  {
   "cell_type": "markdown",
   "id": "689865ee",
   "metadata": {},
   "source": [
    "<img src =\"img2.png\" width = \"800px\" height = \"500px\"></img>"
   ]
  },
  {
   "cell_type": "markdown",
   "id": "9699a0be",
   "metadata": {},
   "source": [
    "<img src =\"img3.png\" width = \"800px\" height = \"500px\"></img>"
   ]
  },
  {
   "cell_type": "markdown",
   "id": "50b8afd0",
   "metadata": {},
   "source": [
    "<img src =\"img4.png\" width = \"800px\" height = \"500px\"></img>"
   ]
  },
  {
   "cell_type": "markdown",
   "id": "2f6f3601",
   "metadata": {},
   "source": [
    "<img src =\"img5.png\" width = \"800px\" height = \"500px\"></img>"
   ]
  },
  {
   "cell_type": "markdown",
   "id": "ccbfdddf",
   "metadata": {},
   "source": [
    "<img src =\"img6.png\" width = \"800px\" height = \"500px\"></img>"
   ]
  },
  {
   "cell_type": "markdown",
   "id": "818b46cc",
   "metadata": {},
   "source": [
    "<img src =\"img7.png\" width = \"800px\" height = \"500px\"></img>"
   ]
  },
  {
   "cell_type": "markdown",
   "id": "ff6ab301",
   "metadata": {},
   "source": [
    "<img src =\"img8.png\" width = \"800px\" height = \"500px\"></img>"
   ]
  },
  {
   "cell_type": "markdown",
   "id": "8cf2b365",
   "metadata": {},
   "source": [
    "<img src =\"img9.png\" width = \"800px\" height = \"500px\"></img>"
   ]
  },
  {
   "cell_type": "markdown",
   "id": "407a614d",
   "metadata": {},
   "source": [
    "<img src =\"img10.png\" width = \"600px\" height = \"300px\"></img>"
   ]
  },
  {
   "cell_type": "markdown",
   "id": "bccc9390",
   "metadata": {},
   "source": [
    "<img src =\"img11.png\" width = \"900px\" height = \"600px\"></img>"
   ]
  },
  {
   "cell_type": "markdown",
   "id": "15abb418",
   "metadata": {},
   "source": [
    "<img src =\"img12.png\" width = \"900px\" height = \"600px\"></img>"
   ]
  },
  {
   "cell_type": "markdown",
   "id": "f71293e8",
   "metadata": {},
   "source": [
    "<img src =\"img13.png\" width = \"800px\" height = \"500px\"></img>"
   ]
  },
  {
   "cell_type": "markdown",
   "id": "d6e74aa4",
   "metadata": {},
   "source": [
    "<img src =\"img14.png\" width = \"800px\" height = \"500px\"></img>"
   ]
  },
  {
   "cell_type": "markdown",
   "id": "21a70b06",
   "metadata": {},
   "source": [
    "<img src =\"img15.png\" width = \"800px\" height = \"500px\"></img>"
   ]
  },
  {
   "cell_type": "markdown",
   "id": "57f8f344",
   "metadata": {},
   "source": [
    "<img src =\"img16.png\" width = \"800px\" height = \"500px\"></img>"
   ]
  },
  {
   "cell_type": "markdown",
   "id": "82f9261c",
   "metadata": {},
   "source": [
    "<img src =\"img17.png\" width = \"800px\" height = \"500px\"></img>"
   ]
  },
  {
   "cell_type": "markdown",
   "id": "b1e7f666",
   "metadata": {},
   "source": [
    "<img src =\"img18.png\" width = \"800px\" height = \"500px\"></img>"
   ]
  },
  {
   "cell_type": "markdown",
   "id": "79bc55f3",
   "metadata": {},
   "source": [
    "<img src =\"img19.png\" width = \"800px\" height = \"500px\"></img>"
   ]
  },
  {
   "cell_type": "markdown",
   "id": "c75d0c0d",
   "metadata": {},
   "source": [
    "<img src =\"img20.png\" width = \"800px\" height = \"500px\"></img>"
   ]
  }
 ],
 "metadata": {
  "kernelspec": {
   "display_name": "Python 3 (ipykernel)",
   "language": "python",
   "name": "python3"
  },
  "language_info": {
   "codemirror_mode": {
    "name": "ipython",
    "version": 3
   },
   "file_extension": ".py",
   "mimetype": "text/x-python",
   "name": "python",
   "nbconvert_exporter": "python",
   "pygments_lexer": "ipython3",
   "version": "3.9.12"
  }
 },
 "nbformat": 4,
 "nbformat_minor": 5
}
