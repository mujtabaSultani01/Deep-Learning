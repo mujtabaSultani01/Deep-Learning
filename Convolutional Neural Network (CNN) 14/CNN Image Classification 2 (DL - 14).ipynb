{
 "cells": [
  {
   "cell_type": "markdown",
   "id": "c00a44d3",
   "metadata": {},
   "source": [
    "## CNN Image Classification\n",
    "**The CIFAR-10 dataset**\n",
    "\n",
    "The CIFAR-10 dataset consists of 60000 32x32 colour images in 10 classes, with 6000 images per class. There are 50000 training images and 10000 test images.\n",
    "\n",
    "The dataset is divided into five training batches and one test batch, each with 10000 images. The test batch contains exactly 1000 randomly-selected images from each class. The training batches contain the remaining images in random order, but some training batches may contain more images from one class than another. Between them, the training batches contain exactly 5000 images from each class.\n",
    "\n",
    "Here are the classes in the dataset, as well as 10 random images from each:"
   ]
  },
  {
   "cell_type": "markdown",
   "id": "15fc482c",
   "metadata": {},
   "source": [
    "<img src =\"image.png\" width = \"400px\" height = \"200px\"></img>"
   ]
  },
  {
   "cell_type": "markdown",
   "id": "f8c4c425",
   "metadata": {},
   "source": [
    "* The classes are completely mutually exclusive. There is no overlap between automobiles and trucks. \"Automobile\" includes sedans, SUVs, things of that sort. \"Truck\" includes only big trucks. Neither includes pickup trucks."
   ]
  },
  {
   "cell_type": "code",
   "execution_count": 25,
   "id": "543f3929",
   "metadata": {},
   "outputs": [],
   "source": [
    "# Required libraries:\n",
    "import tensorflow as tf\n",
    "from tensorflow import keras\n",
    "from tensorflow.keras import datasets, layers, models\n",
    "import matplotlib.pyplot as plt\n",
    "import numpy as np"
   ]
  },
  {
   "cell_type": "code",
   "execution_count": 31,
   "id": "64e66862",
   "metadata": {},
   "outputs": [],
   "source": [
    "# For warning ignorance\n",
    "import warnings\n",
    "warnings.filterwarnings('ignore')"
   ]
  },
  {
   "cell_type": "code",
   "execution_count": 2,
   "id": "af0ddcbd",
   "metadata": {},
   "outputs": [],
   "source": [
    "# To load the cifar-10 dataset:\n",
    "(X_train, y_train), (X_test,y_test) = tf.keras.datasets.cifar10.load_data()"
   ]
  },
  {
   "cell_type": "code",
   "execution_count": 3,
   "id": "694ba686",
   "metadata": {},
   "outputs": [
    {
     "data": {
      "text/plain": [
       "(50000, 32, 32, 3)"
      ]
     },
     "execution_count": 3,
     "metadata": {},
     "output_type": "execute_result"
    }
   ],
   "source": [
    "# So the data is loaded, now we can check the dimension of train and test samples:\n",
    "X_train.shape"
   ]
  },
  {
   "cell_type": "code",
   "execution_count": 4,
   "id": "ae1e535d",
   "metadata": {},
   "outputs": [
    {
     "data": {
      "text/plain": [
       "(10000, 32, 32, 3)"
      ]
     },
     "execution_count": 4,
     "metadata": {},
     "output_type": "execute_result"
    }
   ],
   "source": [
    "# Similarly for test samples:\n",
    "X_test.shape"
   ]
  },
  {
   "cell_type": "code",
   "execution_count": 6,
   "id": "3dc3c2ca",
   "metadata": {},
   "outputs": [
    {
     "data": {
      "text/plain": [
       "array([[6],\n",
       "       [9],\n",
       "       [9],\n",
       "       [4],\n",
       "       [1],\n",
       "       [1]], dtype=uint8)"
      ]
     },
     "execution_count": 6,
     "metadata": {},
     "output_type": "execute_result"
    }
   ],
   "source": [
    "# So to see the first six sample images:\n",
    "y_train[:6]"
   ]
  },
  {
   "cell_type": "code",
   "execution_count": 8,
   "id": "f12485b4",
   "metadata": {},
   "outputs": [
    {
     "data": {
      "text/plain": [
       "array([6, 9, 9, 4, 1, 1], dtype=uint8)"
      ]
     },
     "execution_count": 8,
     "metadata": {},
     "output_type": "execute_result"
    }
   ],
   "source": [
    "# We reshape the 2D array into 1D array for displaying the image through a function later:\n",
    "y_train = y_train.reshape(-1,)\n",
    "y_train[:6]"
   ]
  },
  {
   "cell_type": "code",
   "execution_count": 9,
   "id": "3ee8f030",
   "metadata": {},
   "outputs": [],
   "source": [
    "# We can also define the indexs names of 10 classes to print the names of each image along with the image in the function:\n",
    "classes = [\"airplane\",\"automobile\",\"bird\",\"cat\",\"deer\",\"dog\",\"frog\",\"horse\",\"ship\",\"truck\"]"
   ]
  },
  {
   "cell_type": "code",
   "execution_count": 10,
   "id": "fc0930ca",
   "metadata": {},
   "outputs": [],
   "source": [
    "# So next we define a function for image displaying. When we pass the index along with X_train and y_train, it will print \n",
    "# the image:\n",
    "\n",
    "def plot_sample(X, y, index):\n",
    "    plt.figure(figsize = (15,2))\n",
    "    plt.imshow(X[index])\n",
    "    plt.xlabel(classes[y[index]])"
   ]
  },
  {
   "cell_type": "code",
   "execution_count": 19,
   "id": "5e06fa11",
   "metadata": {},
   "outputs": [
    {
     "data": {
      "image/png": "[encoded data removed]",
      "text/plain": [
       "<Figure size 1080x144 with 1 Axes>"
      ]
     },
     "metadata": {
      "needs_background": "light"
     },
     "output_type": "display_data"
    }
   ],
   "source": [
    "# Let's call the function for an image:\n",
    "plot_sample(X_train, y_train, 2)"
   ]
  },
  {
   "cell_type": "code",
   "execution_count": 20,
   "id": "f3a49f48",
   "metadata": {},
   "outputs": [
    {
     "data": {
      "image/png": "[encoded data removed]",
      "text/plain": [
       "<Figure size 1080x144 with 1 Axes>"
      ]
     },
     "metadata": {
      "needs_background": "light"
     },
     "output_type": "display_data"
    }
   ],
   "source": [
    "plot_sample(X_train, y_train, 6)"
   ]
  },
  {
   "cell_type": "code",
   "execution_count": 22,
   "id": "4fe849fa",
   "metadata": {},
   "outputs": [
    {
     "data": {
      "text/plain": [
       "array([[[[0.00090734, 0.00095348, 0.00096886],\n",
       "         [0.00066128, 0.00070742, 0.00069204],\n",
       "         [0.00076894, 0.00073818, 0.00066128],\n",
       "         ...,\n",
       "         [0.00242983, 0.00202999, 0.0016609 ],\n",
       "         [0.00233756, 0.00192234, 0.00156863],\n",
       "         [0.00227605, 0.00190696, 0.00158401]],\n",
       "\n",
       "        [[0.00024606, 0.00030757, 0.00030757],\n",
       "         [0.        , 0.        , 0.        ],\n",
       "         [0.00027682, 0.00012303, 0.        ],\n",
       "         ...,\n",
       "         [0.00189158, 0.00135333, 0.00084583],\n",
       "         [0.00183007, 0.00127643, 0.00076894],\n",
       "         [0.0018762 , 0.00133795, 0.00087659]],\n",
       "\n",
       "        [[0.00038447, 0.00036909, 0.00032295],\n",
       "         [0.00024606, 0.00010765, 0.        ],\n",
       "         [0.00075356, 0.00041522, 0.00012303],\n",
       "         ...,\n",
       "         [0.00181469, 0.00129181, 0.00076894],\n",
       "         [0.00184544, 0.00129181, 0.00076894],\n",
       "         [0.00167628, 0.00112265, 0.00064591]],\n",
       "\n",
       "        ...,\n",
       "\n",
       "        [[0.00319877, 0.00261438, 0.00147636],\n",
       "         [0.00309112, 0.00235294, 0.00052288],\n",
       "         [0.00304498, 0.00247597, 0.00039985],\n",
       "         ...,\n",
       "         [0.00246059, 0.00204537, 0.00107651],\n",
       "         [0.00086121, 0.00047674, 0.00010765],\n",
       "         [0.00081507, 0.00052288, 0.00030757]],\n",
       "\n",
       "        [[0.00276817, 0.00213764, 0.00147636],\n",
       "         [0.00266052, 0.00189158, 0.00064591],\n",
       "         [0.00286044, 0.00221453, 0.00046136],\n",
       "         ...,\n",
       "         [0.00282968, 0.00227605, 0.0014456 ],\n",
       "         [0.00149173, 0.00095348, 0.00052288],\n",
       "         [0.00127643, 0.00081507, 0.00052288]],\n",
       "\n",
       "        [[0.00272203, 0.00221453, 0.00178393],\n",
       "         [0.00258362, 0.00198385, 0.0014456 ],\n",
       "         [0.00275279, 0.00218378, 0.00133795],\n",
       "         ...,\n",
       "         [0.0033218 , 0.00282968, 0.00215302],\n",
       "         [0.00232218, 0.00181469, 0.00129181],\n",
       "         [0.00189158, 0.00141484, 0.00110727]]],\n",
       "\n",
       "\n",
       "       [[[0.00236832, 0.00272203, 0.00287582],\n",
       "         [0.00193772, 0.00210688, 0.0020915 ],\n",
       "         [0.00161476, 0.00159938, 0.00146098],\n",
       "         ...,\n",
       "         [0.00139946, 0.00146098, 0.00109189],\n",
       "         [0.00133795, 0.00138408, 0.00109189],\n",
       "         [0.00121492, 0.00124567, 0.00107651]],\n",
       "\n",
       "        [[0.00215302, 0.00246059, 0.002599  ],\n",
       "         [0.00222991, 0.00235294, 0.00236832],\n",
       "         [0.00192234, 0.00192234, 0.00181469],\n",
       "         ...,\n",
       "         [0.00147636, 0.00152249, 0.00119954],\n",
       "         [0.00118416, 0.0012303 , 0.00095348],\n",
       "         [0.00109189, 0.00112265, 0.0009381 ]],\n",
       "\n",
       "        [[0.00215302, 0.0023837 , 0.00252211],\n",
       "         [0.00213764, 0.00224529, 0.00229143],\n",
       "         [0.00176855, 0.00176855, 0.00172241],\n",
       "         ...,\n",
       "         [0.00121492, 0.00126105, 0.00098424],\n",
       "         [0.00104575, 0.00107651, 0.00084583],\n",
       "         [0.00103037, 0.00106113, 0.00084583]],\n",
       "\n",
       "        ...,\n",
       "\n",
       "        [[0.00269127, 0.00256824, 0.00255286],\n",
       "         [0.00239908, 0.00236832, 0.00246059],\n",
       "         [0.00236832, 0.00246059, 0.00261438],\n",
       "         ...,\n",
       "         [0.00064591, 0.00052288, 0.00055363],\n",
       "         [0.0009381 , 0.00081507, 0.00087659],\n",
       "         [0.00143022, 0.00127643, 0.00139946]],\n",
       "\n",
       "        [[0.00253749, 0.00236832, 0.00196847],\n",
       "         [0.00239908, 0.00233756, 0.00199923],\n",
       "         [0.00244521, 0.00247597, 0.00218378],\n",
       "         ...,\n",
       "         [0.00158401, 0.00143022, 0.00147636],\n",
       "         [0.00189158, 0.00175317, 0.00184544],\n",
       "         [0.00201461, 0.00186082, 0.00201461]],\n",
       "\n",
       "        [[0.00250673, 0.00227605, 0.00184544],\n",
       "         [0.00242983, 0.00227605, 0.0018762 ],\n",
       "         [0.00250673, 0.00239908, 0.00204537],\n",
       "         ...,\n",
       "         [0.00219915, 0.00204537, 0.00213764],\n",
       "         [0.00219915, 0.00206075, 0.00218378],\n",
       "         [0.00219915, 0.00204537, 0.00221453]]],\n",
       "\n",
       "\n",
       "       [[[0.00392157, 0.00392157, 0.00392157],\n",
       "         [0.00389081, 0.00389081, 0.00389081],\n",
       "         [0.00389081, 0.00389081, 0.00389081],\n",
       "         ...,\n",
       "         [0.00389081, 0.00389081, 0.00389081],\n",
       "         [0.00389081, 0.00389081, 0.00389081],\n",
       "         [0.00389081, 0.00389081, 0.00389081]],\n",
       "\n",
       "        [[0.00392157, 0.00392157, 0.00392157],\n",
       "         [0.00392157, 0.00392157, 0.00392157],\n",
       "         [0.00392157, 0.00392157, 0.00392157],\n",
       "         ...,\n",
       "         [0.00392157, 0.00392157, 0.00392157],\n",
       "         [0.00392157, 0.00392157, 0.00392157],\n",
       "         [0.00392157, 0.00392157, 0.00392157]],\n",
       "\n",
       "        [[0.00392157, 0.00392157, 0.00392157],\n",
       "         [0.00390619, 0.00390619, 0.00390619],\n",
       "         [0.00390619, 0.00390619, 0.00390619],\n",
       "         ...,\n",
       "         [0.00390619, 0.00390619, 0.00390619],\n",
       "         [0.00390619, 0.00390619, 0.00390619],\n",
       "         [0.00390619, 0.00390619, 0.00390619]],\n",
       "\n",
       "        ...,\n",
       "\n",
       "        [[0.00173779, 0.00184544, 0.00172241],\n",
       "         [0.00170704, 0.00181469, 0.00170704],\n",
       "         [0.00161476, 0.00172241, 0.00163014],\n",
       "         ...,\n",
       "         [0.00110727, 0.00124567, 0.0012303 ],\n",
       "         [0.00110727, 0.0012303 , 0.00121492],\n",
       "         [0.00110727, 0.0012303 , 0.00121492]],\n",
       "\n",
       "        [[0.00170704, 0.00181469, 0.00169166],\n",
       "         [0.00159938, 0.00170704, 0.00159938],\n",
       "         [0.00152249, 0.00163014, 0.00150711],\n",
       "         ...,\n",
       "         [0.00104575, 0.0011534 , 0.00112265],\n",
       "         [0.00107651, 0.00116878, 0.0011534 ],\n",
       "         [0.00119954, 0.00129181, 0.00126105]],\n",
       "\n",
       "        [[0.00163014, 0.00173779, 0.00161476],\n",
       "         [0.00152249, 0.00163014, 0.00150711],\n",
       "         [0.00146098, 0.00156863, 0.0014456 ],\n",
       "         ...,\n",
       "         [0.00119954, 0.00130719, 0.00127643],\n",
       "         [0.00121492, 0.00130719, 0.00127643],\n",
       "         [0.0012303 , 0.00132257, 0.00129181]]],\n",
       "\n",
       "\n",
       "       ...,\n",
       "\n",
       "\n",
       "       [[[0.00053825, 0.00273741, 0.00361399],\n",
       "         [0.00061515, 0.00270665, 0.00367551],\n",
       "         [0.00064591, 0.00270665, 0.00370627],\n",
       "         ...,\n",
       "         [0.00152249, 0.00272203, 0.00336794],\n",
       "         [0.00121492, 0.00226067, 0.0030296 ],\n",
       "         [0.0013687 , 0.00227605, 0.00290657]],\n",
       "\n",
       "        [[0.00087659, 0.00279892, 0.00359862],\n",
       "         [0.00067666, 0.00282968, 0.00384468],\n",
       "         [0.00076894, 0.0028143 , 0.00369089],\n",
       "         ...,\n",
       "         [0.00239908, 0.00279892, 0.00307574],\n",
       "         [0.0021684 , 0.00272203, 0.00316801],\n",
       "         [0.00178393, 0.00229143, 0.00269127]],\n",
       "\n",
       "        [[0.00150711, 0.0030296 , 0.00364475],\n",
       "         [0.00098424, 0.00290657, 0.00387543],\n",
       "         [0.00106113, 0.00295271, 0.00376778],\n",
       "         ...,\n",
       "         [0.0028912 , 0.00299885, 0.00316801],\n",
       "         [0.00183007, 0.00207612, 0.00226067],\n",
       "         [0.0009381 , 0.00121492, 0.00138408]],\n",
       "\n",
       "        ...,\n",
       "\n",
       "        [[0.00112265, 0.00121492, 0.00118416],\n",
       "         [0.00081507, 0.00096886, 0.00104575],\n",
       "         [0.00083045, 0.00104575, 0.0012303 ],\n",
       "         ...,\n",
       "         [0.00026144, 0.00061515, 0.00098424],\n",
       "         [0.00032295, 0.00055363, 0.00078431],\n",
       "         [0.0005075 , 0.00073818, 0.00075356]],\n",
       "\n",
       "        [[0.0009381 , 0.00104575, 0.0011534 ],\n",
       "         [0.00084583, 0.00107651, 0.00132257],\n",
       "         [0.00087659, 0.00121492, 0.00158401],\n",
       "         ...,\n",
       "         [0.00036909, 0.00073818, 0.00110727],\n",
       "         [0.00026144, 0.00053825, 0.00081507],\n",
       "         [0.00010765, 0.00035371, 0.00049212]],\n",
       "\n",
       "        [[0.00067666, 0.00086121, 0.00112265],\n",
       "         [0.00070742, 0.00101499, 0.00135333],\n",
       "         [0.00075356, 0.00118416, 0.00161476],\n",
       "         ...,\n",
       "         [0.00041522, 0.00079969, 0.00118416],\n",
       "         [0.00032295, 0.00066128, 0.00101499],\n",
       "         [0.00018454, 0.00047674, 0.00076894]]],\n",
       "\n",
       "\n",
       "       [[[0.00290657, 0.00324491, 0.00369089],\n",
       "         [0.00286044, 0.00319877, 0.00362937],\n",
       "         [0.00284506, 0.00318339, 0.00361399],\n",
       "         ...,\n",
       "         [0.00269127, 0.00299885, 0.00344483],\n",
       "         [0.00264514, 0.00298347, 0.00341407],\n",
       "         [0.002599  , 0.00298347, 0.00338331]],\n",
       "\n",
       "        [[0.00298347, 0.00322953, 0.00367551],\n",
       "         [0.00293733, 0.00318339, 0.00362937],\n",
       "         [0.00292195, 0.00316801, 0.00361399],\n",
       "         ...,\n",
       "         [0.00266052, 0.00295271, 0.00338331],\n",
       "         [0.00262976, 0.00293733, 0.00335256],\n",
       "         [0.00256824, 0.00292195, 0.0033218 ]],\n",
       "\n",
       "        [[0.00319877, 0.00336794, 0.0037524 ],\n",
       "         [0.00315263, 0.0033218 , 0.00369089],\n",
       "         [0.00313725, 0.00330642, 0.00367551],\n",
       "         ...,\n",
       "         [0.00269127, 0.00293733, 0.00333718],\n",
       "         [0.00264514, 0.00292195, 0.0033218 ],\n",
       "         [0.002599  , 0.00293733, 0.00330642]],\n",
       "\n",
       "        ...,\n",
       "\n",
       "        [[0.00318339, 0.00306036, 0.00278354],\n",
       "         [0.00312188, 0.00299885, 0.00269127],\n",
       "         [0.00312188, 0.00301423, 0.00266052],\n",
       "         ...,\n",
       "         [0.00207612, 0.00202999, 0.00195309],\n",
       "         [0.00249135, 0.00242983, 0.00230681],\n",
       "         [0.00258362, 0.00250673, 0.00232218]],\n",
       "\n",
       "        [[0.00304498, 0.00292195, 0.00261438],\n",
       "         [0.00290657, 0.00278354, 0.00244521],\n",
       "         [0.00276817, 0.00264514, 0.00226067],\n",
       "         ...,\n",
       "         [0.00273741, 0.00262976, 0.00246059],\n",
       "         [0.00269127, 0.002599  , 0.00239908],\n",
       "         [0.00269127, 0.002599  , 0.00236832]],\n",
       "\n",
       "        [[0.00304498, 0.00290657, 0.00266052],\n",
       "         [0.00290657, 0.00278354, 0.00249135],\n",
       "         [0.00273741, 0.00261438, 0.00229143],\n",
       "         ...,\n",
       "         [0.00299885, 0.00282968, 0.002599  ],\n",
       "         [0.00301423, 0.00290657, 0.00262976],\n",
       "         [0.00299885, 0.00292195, 0.00262976]]],\n",
       "\n",
       "\n",
       "       [[[0.00352172, 0.00352172, 0.00367551],\n",
       "         [0.00362937, 0.00364475, 0.00379854],\n",
       "         [0.00359862, 0.00362937, 0.00379854],\n",
       "         ...,\n",
       "         [0.00333718, 0.00336794, 0.00358324],\n",
       "         [0.00339869, 0.00342945, 0.00359862],\n",
       "         [0.00341407, 0.00342945, 0.00358324]],\n",
       "\n",
       "        [[0.00341407, 0.00339869, 0.00352172],\n",
       "         [0.00367551, 0.00367551, 0.0038293 ],\n",
       "         [0.00358324, 0.00359862, 0.00378316],\n",
       "         ...,\n",
       "         [0.00342945, 0.00342945, 0.00362937],\n",
       "         [0.00349097, 0.00350634, 0.00366013],\n",
       "         [0.00322953, 0.00324491, 0.00338331]],\n",
       "\n",
       "        [[0.00327566, 0.00316801, 0.00324491],\n",
       "         [0.00359862, 0.00356786, 0.00367551],\n",
       "         [0.00355248, 0.00358324, 0.0037524 ],\n",
       "         ...,\n",
       "         [0.00338331, 0.00338331, 0.00356786],\n",
       "         [0.00338331, 0.00336794, 0.00356786],\n",
       "         [0.0031065 , 0.00312188, 0.00330642]],\n",
       "\n",
       "        ...,\n",
       "\n",
       "        [[0.00230681, 0.00219915, 0.00207612],\n",
       "         [0.00215302, 0.00207612, 0.00195309],\n",
       "         [0.00202999, 0.00195309, 0.00184544],\n",
       "         ...,\n",
       "         [0.00344483, 0.00341407, 0.00335256],\n",
       "         [0.0035371 , 0.00350634, 0.00346021],\n",
       "         [0.00370627, 0.00370627, 0.00366013]],\n",
       "\n",
       "        [[0.00210688, 0.00202999, 0.00193772],\n",
       "         [0.00199923, 0.00195309, 0.00184544],\n",
       "         [0.00192234, 0.00186082, 0.00176855],\n",
       "         ...,\n",
       "         [0.00278354, 0.00276817, 0.00273741],\n",
       "         [0.0031065 , 0.00309112, 0.00304498],\n",
       "         [0.00326028, 0.00324491, 0.00318339]],\n",
       "\n",
       "        [[0.0018762 , 0.00183007, 0.00175317],\n",
       "         [0.00181469, 0.00178393, 0.00169166],\n",
       "         [0.00184544, 0.00178393, 0.00170704],\n",
       "         ...,\n",
       "         [0.00275279, 0.00272203, 0.00266052],\n",
       "         [0.00252211, 0.00252211, 0.00249135],\n",
       "         [0.00250673, 0.00250673, 0.00247597]]]])"
      ]
     },
     "execution_count": 22,
     "metadata": {},
     "output_type": "execute_result"
    }
   ],
   "source": [
    "# The next step is to normalize (scal) the dataset.\n",
    "# To normalize the images to a number from 0 to 1. Image has 3 channels (R,G,B) and each value in the channel can range from\n",
    "# 0 to 255. Hence to normalize in 0-->1 range, we need to divide it by 255.\n",
    "# For example if we divide X_train into 255, then all the elements of X_train will be divided into 200, and this is the \n",
    "# power of numpy array.\n",
    "X_train/255"
   ]
  },
  {
   "cell_type": "code",
   "execution_count": 23,
   "id": "d857c429",
   "metadata": {},
   "outputs": [],
   "source": [
    "# So let's do normalization:\n",
    "X_train = X_train / 255.0\n",
    "X_test = X_test / 255.0"
   ]
  },
  {
   "cell_type": "code",
   "execution_count": 28,
   "id": "ba149c82",
   "metadata": {
    "scrolled": true
   },
   "outputs": [
    {
     "name": "stdout",
     "output_type": "stream",
     "text": [
      "Epoch 1/5\n",
      "1563/1563 [==============================] - 128s 80ms/step - loss: 2.3008 - accuracy: 0.1206\n",
      "Epoch 2/5\n",
      "1563/1563 [==============================] - 126s 81ms/step - loss: 2.2997 - accuracy: 0.1252\n",
      "Epoch 3/5\n",
      "1563/1563 [==============================] - 115s 74ms/step - loss: 2.2990 - accuracy: 0.1392\n",
      "Epoch 4/5\n",
      "1563/1563 [==============================] - 122s 78ms/step - loss: 2.2980 - accuracy: 0.1508\n",
      "Epoch 5/5\n",
      "1563/1563 [==============================] - 135s 87ms/step - loss: 2.2969 - accuracy: 0.1620\n"
     ]
    },
    {
     "data": {
      "text/plain": [
       "<keras.callbacks.History at 0x2388048a970>"
      ]
     },
     "execution_count": 28,
     "metadata": {},
     "output_type": "execute_result"
    }
   ],
   "source": [
    "# So the next step is to build a simple ANN network for image classification to see the performance, and after that we'll\n",
    "# do CNN for image classification:\n",
    "ann = models.Sequential([\n",
    "        layers.Flatten(input_shape=(32,32,3)),\n",
    "        layers.Dense(3000, activation='relu'),\n",
    "        layers.Dense(1000, activation='relu'),\n",
    "        layers.Dense(10, activation='sigmoid')    \n",
    "    ])\n",
    "\n",
    "ann.compile(optimizer='SGD',\n",
    "              loss='sparse_categorical_crossentropy',\n",
    "              metrics=['accuracy'])\n",
    "\n",
    "ann.fit(X_train, y_train, epochs=5) "
   ]
  },
  {
   "cell_type": "code",
   "execution_count": 29,
   "id": "4c489ddd",
   "metadata": {},
   "outputs": [
    {
     "name": "stdout",
     "output_type": "stream",
     "text": [
      "313/313 [==============================] - 6s 18ms/step - loss: 2.2960 - accuracy: 0.1511\n"
     ]
    },
    {
     "data": {
      "text/plain": [
       "[2.2960362434387207, 0.15109999477863312]"
      ]
     },
     "execution_count": 29,
     "metadata": {},
     "output_type": "execute_result"
    }
   ],
   "source": [
    "# So as we see that for training sample the accuracy is pretty low.\n",
    "# Let's see for test samples:\n",
    "ann.evaluate(X_test, y_test)"
   ]
  },
  {
   "cell_type": "code",
   "execution_count": 32,
   "id": "2e39b301",
   "metadata": {},
   "outputs": [
    {
     "name": "stdout",
     "output_type": "stream",
     "text": [
      "313/313 [==============================] - 6s 19ms/step\n",
      "Classification Report: \n",
      "               precision    recall  f1-score   support\n",
      "\n",
      "           0       0.16      0.84      0.27      1000\n",
      "           1       0.00      0.00      0.00      1000\n",
      "           2       0.12      0.52      0.19      1000\n",
      "           3       0.00      0.00      0.00      1000\n",
      "           4       0.00      0.00      0.00      1000\n",
      "           5       0.00      0.00      0.00      1000\n",
      "           6       0.00      0.00      0.00      1000\n",
      "           7       0.00      0.00      0.00      1000\n",
      "           8       0.00      0.00      0.00      1000\n",
      "           9       0.36      0.15      0.21      1000\n",
      "\n",
      "    accuracy                           0.15     10000\n",
      "   macro avg       0.06      0.15      0.07     10000\n",
      "weighted avg       0.06      0.15      0.07     10000\n",
      "\n"
     ]
    }
   ],
   "source": [
    "# We see that for test samples also the accuracy is very bad.\n",
    "# So generally we can say that ANN perform very bad on this dataset as we see in the following classification report:\n",
    "from sklearn.metrics import confusion_matrix , classification_report\n",
    "import numpy as np\n",
    "y_pred = ann.predict(X_test)\n",
    "y_pred_classes = [np.argmax(element) for element in y_pred]\n",
    "\n",
    "print(\"Classification Report: \\n\", classification_report(y_test, y_pred_classes))"
   ]
  },
  {
   "cell_type": "code",
   "execution_count": 33,
   "id": "e17645e5",
   "metadata": {},
   "outputs": [],
   "source": [
    "# So now we use CNN to see how the performance is going to improve.\n",
    "\n",
    "cnn = models.Sequential([\n",
    "    layers.Conv2D(filters=32, kernel_size=(3, 3), activation='relu', input_shape=(32, 32, 3)),\n",
    "    layers.MaxPooling2D((2, 2)),\n",
    "    \n",
    "    layers.Conv2D(filters=64, kernel_size=(3, 3), activation='relu'),\n",
    "    layers.MaxPooling2D((2, 2)),\n",
    "    \n",
    "    layers.Flatten(),\n",
    "    layers.Dense(64, activation='relu'),\n",
    "    layers.Dense(10, activation='softmax')\n",
    "])"
   ]
  },
  {
   "cell_type": "code",
   "execution_count": 34,
   "id": "75c19399",
   "metadata": {},
   "outputs": [],
   "source": [
    "# The next step is to compile the model:\n",
    "\n",
    "cnn.compile(optimizer='adam',\n",
    "              loss='sparse_categorical_crossentropy',\n",
    "              metrics=['accuracy'])"
   ]
  },
  {
   "cell_type": "code",
   "execution_count": 35,
   "id": "4d0dc36b",
   "metadata": {
    "scrolled": true
   },
   "outputs": [
    {
     "name": "stdout",
     "output_type": "stream",
     "text": [
      "Epoch 1/10\n",
      "1563/1563 [==============================] - 57s 36ms/step - loss: 2.0950 - accuracy: 0.2321\n",
      "Epoch 2/10\n",
      "1563/1563 [==============================] - 53s 34ms/step - loss: 1.8741 - accuracy: 0.3267\n",
      "Epoch 3/10\n",
      "1563/1563 [==============================] - 51s 32ms/step - loss: 1.7349 - accuracy: 0.3736\n",
      "Epoch 4/10\n",
      "1563/1563 [==============================] - 52s 34ms/step - loss: 1.6675 - accuracy: 0.3985\n",
      "Epoch 5/10\n",
      "1563/1563 [==============================] - 50s 32ms/step - loss: 1.6244 - accuracy: 0.4155\n",
      "Epoch 6/10\n",
      "1563/1563 [==============================] - 57s 36ms/step - loss: 1.5875 - accuracy: 0.4296\n",
      "Epoch 7/10\n",
      "1563/1563 [==============================] - 64s 41ms/step - loss: 1.5592 - accuracy: 0.4402\n",
      "Epoch 8/10\n",
      "1563/1563 [==============================] - 52s 33ms/step - loss: 1.5348 - accuracy: 0.4493\n",
      "Epoch 9/10\n",
      "1563/1563 [==============================] - 52s 33ms/step - loss: 1.5143 - accuracy: 0.4543\n",
      "Epoch 10/10\n",
      "1563/1563 [==============================] - 59s 38ms/step - loss: 1.4925 - accuracy: 0.4633\n"
     ]
    },
    {
     "data": {
      "text/plain": [
       "<keras.callbacks.History at 0x23881d0aac0>"
      ]
     },
     "execution_count": 35,
     "metadata": {},
     "output_type": "execute_result"
    }
   ],
   "source": [
    "# Next we fit and run the model for 10 epochs:\n",
    "cnn.fit(X_train, y_train, epochs=10)"
   ]
  },
  {
   "cell_type": "code",
   "execution_count": 37,
   "id": "3c0045b9",
   "metadata": {},
   "outputs": [
    {
     "name": "stdout",
     "output_type": "stream",
     "text": [
      "313/313 [==============================] - 3s 10ms/step - loss: 1.4815 - accuracy: 0.4685\n"
     ]
    },
    {
     "data": {
      "text/plain": [
       "[1.4814722537994385, 0.4684999883174896]"
      ]
     },
     "execution_count": 37,
     "metadata": {},
     "output_type": "execute_result"
    }
   ],
   "source": [
    "# We see that comparing to ANN, CNN perform well for this dataset. \n",
    "# After 5 epochs using ANN we had 16% accuracy, but here after 5 epochs we have 41% accuracy.\n",
    "# Let's see the accuracy on test dataset:\n",
    "cnn.evaluate(X_test, y_test)"
   ]
  },
  {
   "cell_type": "code",
   "execution_count": 38,
   "id": "13050d85",
   "metadata": {},
   "outputs": [
    {
     "name": "stdout",
     "output_type": "stream",
     "text": [
      "313/313 [==============================] - 3s 10ms/step\n",
      "Classification Report: \n",
      "               precision    recall  f1-score   support\n",
      "\n",
      "           0       0.50      0.53      0.52      1000\n",
      "           1       0.61      0.53      0.57      1000\n",
      "           2       0.36      0.34      0.35      1000\n",
      "           3       0.32      0.34      0.33      1000\n",
      "           4       0.40      0.39      0.39      1000\n",
      "           5       0.45      0.38      0.41      1000\n",
      "           6       0.52      0.54      0.53      1000\n",
      "           7       0.59      0.48      0.53      1000\n",
      "           8       0.46      0.69      0.55      1000\n",
      "           9       0.53      0.47      0.50      1000\n",
      "\n",
      "    accuracy                           0.47     10000\n",
      "   macro avg       0.47      0.47      0.47     10000\n",
      "weighted avg       0.47      0.47      0.47     10000\n",
      "\n"
     ]
    }
   ],
   "source": [
    "# To check the classification report:\n",
    "cnn_y_pred = cnn.predict(X_test)\n",
    "cnn_y_pred_classes = [np.argmax(element) for element in cnn_y_pred]\n",
    "\n",
    "print(\"Classification Report: \\n\", classification_report(y_test, cnn_y_pred_classes))"
   ]
  },
  {
   "cell_type": "code",
   "execution_count": 42,
   "id": "baed257e",
   "metadata": {},
   "outputs": [
    {
     "data": {
      "text/plain": [
       "array([3, 8, 8, 0, 6], dtype=uint8)"
      ]
     },
     "execution_count": 42,
     "metadata": {},
     "output_type": "execute_result"
    }
   ],
   "source": [
    "# Now let's makes some prediction:\n",
    "# First we need to reshape y_test smaples:\n",
    "y_test = y_test.reshape(-1,)\n",
    "y_test[:5]"
   ]
  },
  {
   "cell_type": "code",
   "execution_count": 45,
   "id": "0f02a321",
   "metadata": {},
   "outputs": [
    {
     "data": {
      "image/png": "[encoded data removed]",
      "text/plain": [
       "<Figure size 1080x144 with 1 Axes>"
      ]
     },
     "metadata": {
      "needs_background": "light"
     },
     "output_type": "display_data"
    }
   ],
   "source": [
    "# So now to see one of the y_test image:\n",
    "plot_sample(X_test, y_test, 2)"
   ]
  },
  {
   "cell_type": "code",
   "execution_count": 46,
   "id": "fab983d6",
   "metadata": {},
   "outputs": [
    {
     "name": "stdout",
     "output_type": "stream",
     "text": [
      "313/313 [==============================] - 3s 10ms/step\n"
     ]
    },
    {
     "data": {
      "text/plain": [
       "array([[1.5536515e-02, 7.8556500e-03, 1.1261734e-01, 4.8034778e-01,\n",
       "        6.1698463e-02, 2.1139513e-01, 6.7073852e-02, 9.1276076e-03,\n",
       "        2.7580172e-02, 6.7674997e-03],\n",
       "       [1.1199434e-01, 6.3688092e-02, 3.2679590e-03, 9.0062735e-04,\n",
       "        1.4689487e-03, 4.0085334e-04, 2.8230641e-05, 7.9684058e-04,\n",
       "        6.7923921e-01, 1.3821495e-01],\n",
       "       [1.1252929e-01, 8.1453577e-02, 5.4897685e-03, 2.5799391e-03,\n",
       "        3.2358498e-03, 1.3560744e-03, 2.3629941e-04, 1.3097028e-03,\n",
       "        6.3545537e-01, 1.5635420e-01],\n",
       "       [2.9428476e-01, 5.2833520e-02, 1.1877949e-02, 3.5381692e-03,\n",
       "        8.1243347e-03, 1.3091101e-03, 4.4715920e-04, 2.4252399e-03,\n",
       "        5.9171671e-01, 3.3443030e-02],\n",
       "       [3.4452581e-03, 3.7162346e-04, 1.0813234e-01, 1.7109944e-01,\n",
       "        3.6085325e-01, 7.9651505e-02, 2.4439040e-01, 2.7997332e-02,\n",
       "        3.4125219e-03, 6.4633746e-04]], dtype=float32)"
      ]
     },
     "execution_count": 46,
     "metadata": {},
     "output_type": "execute_result"
    }
   ],
   "source": [
    "# Now let's try to predict this image using our model:\n",
    "# We predict first 5 smaples:\n",
    "y_pred = cnn.predict(X_test)\n",
    "y_pred[:5]"
   ]
  },
  {
   "cell_type": "code",
   "execution_count": 47,
   "id": "518de70e",
   "metadata": {},
   "outputs": [
    {
     "data": {
      "text/plain": [
       "[3, 8, 8, 8, 4]"
      ]
     },
     "execution_count": 47,
     "metadata": {},
     "output_type": "execute_result"
    }
   ],
   "source": [
    "# To see the Max value, we use argmax() function:\n",
    "y_classes = [np.argmax(element) for element in y_pred]\n",
    "y_classes[:5]"
   ]
  },
  {
   "cell_type": "code",
   "execution_count": 51,
   "id": "a95012dd",
   "metadata": {},
   "outputs": [
    {
     "data": {
      "image/png": "[encoded data removed]",
      "text/plain": [
       "<Figure size 1080x144 with 1 Axes>"
      ]
     },
     "metadata": {
      "needs_background": "light"
     },
     "output_type": "display_data"
    }
   ],
   "source": [
    "# So if we plot an image from y_test:\n",
    "plot_sample(X_test, y_test,1)"
   ]
  },
  {
   "cell_type": "code",
   "execution_count": 52,
   "id": "82347179",
   "metadata": {},
   "outputs": [
    {
     "data": {
      "text/plain": [
       "'ship'"
      ]
     },
     "execution_count": 52,
     "metadata": {},
     "output_type": "execute_result"
    }
   ],
   "source": [
    "# To predict this image using CNN model:\n",
    "classes[y_classes[1]]"
   ]
  },
  {
   "cell_type": "markdown",
   "id": "19f5100f",
   "metadata": {},
   "source": [
    "### Exercise\n",
    "Use CNN to do handwritten digits classification using MNIST dataset. You can use this notebook as a reference: https://github.com/codebasics/py/blob/master/DeepLearningML/1_digits_recognition/digits_recognition_neural_network.ipynb\n",
    "\n",
    "Above we used ANN for digits classification. You need to modify this code to use CNN instead. Check how accuracy improves fast with CNN and figure out how CNN can be a better choice for doing image classification compared to ANN. Once you have worked on this problem on your own, you can check my solution by clicking on this link:"
   ]
  }
 ],
 "metadata": {
  "kernelspec": {
   "display_name": "Python 3 (ipykernel)",
   "language": "python",
   "name": "python3"
  },
  "language_info": {
   "codemirror_mode": {
    "name": "ipython",
    "version": 3
   },
   "file_extension": ".py",
   "mimetype": "text/x-python",
   "name": "python",
   "nbconvert_exporter": "python",
   "pygments_lexer": "ipython3",
   "version": "3.9.12"
  }
 },
 "nbformat": 4,
 "nbformat_minor": 5
}
