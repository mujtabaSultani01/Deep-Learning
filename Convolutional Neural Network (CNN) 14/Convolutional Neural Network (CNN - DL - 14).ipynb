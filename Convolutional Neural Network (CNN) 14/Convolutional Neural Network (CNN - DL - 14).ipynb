{
 "cells": [
  {
   "cell_type": "markdown",
   "id": "a622bea0",
   "metadata": {},
   "source": [
    "## Convolutional Neural Network CNN\n",
    "A **convolutional neural network (CNN)** is a type of deep learning algorithm that uses multiple layers of convolutional filters to learn patterns in data and make predictions. CNNs are often used for computer vision tasks such as image classification, object detection, and segmentation.\n",
    "\n",
    "Computer vision is the field of computer science that deals with how computers can be made to understand and interpret visual data. It involves using algorithms and techniques to extract information from images and videos to recognize objects, detect patterns, and track movements.\n",
    "\n",
    "**Disadvantages of using ANN for image classification**\n",
    "   \n",
    "    1. Too much computation\n",
    "    2. Treats local pixesl same as pixels far apart\n",
    "    3. Sensitive to location of an object in an image."
   ]
  },
  {
   "cell_type": "markdown",
   "id": "db18d071",
   "metadata": {},
   "source": [
    "<img src =\"img.png\" width = \"800px\" height = \"400px\"></img>"
   ]
  },
  {
   "cell_type": "markdown",
   "id": "4ecd581c",
   "metadata": {},
   "source": [
    "### CNN Working procedure"
   ]
  },
  {
   "cell_type": "markdown",
   "id": "4a9f4f04",
   "metadata": {},
   "source": [
    "<img src =\"img1.png\" width = \"800px\" height = \"500px\"></img>"
   ]
  },
  {
   "cell_type": "markdown",
   "id": "56ac2b9f",
   "metadata": {},
   "source": [
    "<img src =\"img2.png\" width = \"800px\" height = \"500px\"></img>"
   ]
  },
  {
   "cell_type": "markdown",
   "id": "36eb25be",
   "metadata": {},
   "source": [
    "<img src =\"img3.png\" width = \"800px\" height = \"500px\"></img>"
   ]
  },
  {
   "cell_type": "markdown",
   "id": "b38281bd",
   "metadata": {},
   "source": [
    "<img src =\"img4.png\" width = \"800px\" height = \"500px\"></img>"
   ]
  },
  {
   "cell_type": "markdown",
   "id": "83bbbb86",
   "metadata": {},
   "source": [
    "<img src =\"img5.png\" width = \"800px\" height = \"500px\"></img>"
   ]
  },
  {
   "cell_type": "markdown",
   "id": "6ffd605a",
   "metadata": {},
   "source": [
    "<img src =\"img6.png\" width = \"800px\" height = \"500px\"></img>"
   ]
  },
  {
   "cell_type": "markdown",
   "id": "ed61f2aa",
   "metadata": {},
   "source": [
    "<img src =\"img7.png\" width = \"800px\" height = \"500px\"></img>"
   ]
  },
  {
   "cell_type": "markdown",
   "id": "ed2fb227",
   "metadata": {},
   "source": [
    "<img src =\"img8.png\" width = \"800px\" height = \"500px\"></img>"
   ]
  },
  {
   "cell_type": "markdown",
   "id": "2eb49cb7",
   "metadata": {},
   "source": [
    "<img src =\"img9.png\" width = \"800px\" height = \"500px\"></img>"
   ]
  },
  {
   "cell_type": "markdown",
   "id": "a4f4fdbf",
   "metadata": {},
   "source": [
    "<img src =\"img10.png\" width = \"600px\" height = \"300px\"></img>"
   ]
  },
  {
   "cell_type": "markdown",
   "id": "e85ad3b3",
   "metadata": {},
   "source": [
    "<img src =\"img11.png\" width = \"900px\" height = \"600px\"></img>"
   ]
  },
  {
   "cell_type": "markdown",
   "id": "16ca35eb",
   "metadata": {},
   "source": [
    "<img src =\"img12.png\" width = \"900px\" height = \"600px\"></img>"
   ]
  },
  {
   "cell_type": "markdown",
   "id": "15155d2d",
   "metadata": {},
   "source": [
    "<img src =\"img13.png\" width = \"800px\" height = \"500px\"></img>"
   ]
  },
  {
   "cell_type": "markdown",
   "id": "45e84a25",
   "metadata": {},
   "source": [
    "<img src =\"img14.png\" width = \"800px\" height = \"500px\"></img>"
   ]
  },
  {
   "cell_type": "markdown",
   "id": "6487dda4",
   "metadata": {},
   "source": [
    "<img src =\"img15.png\" width = \"800px\" height = \"500px\"></img>"
   ]
  },
  {
   "cell_type": "markdown",
   "id": "8a60503d",
   "metadata": {},
   "source": [
    "<img src =\"img16.png\" width = \"800px\" height = \"500px\"></img>"
   ]
  },
  {
   "cell_type": "markdown",
   "id": "c202be1e",
   "metadata": {},
   "source": [
    "<img src =\"img17.png\" width = \"800px\" height = \"500px\"></img>"
   ]
  },
  {
   "cell_type": "markdown",
   "id": "5f67971e",
   "metadata": {},
   "source": [
    "<img src =\"img18.png\" width = \"800px\" height = \"500px\"></img>"
   ]
  },
  {
   "cell_type": "markdown",
   "id": "502a6f6b",
   "metadata": {},
   "source": [
    "<img src =\"img19.png\" width = \"800px\" height = \"500px\"></img>"
   ]
  },
  {
   "cell_type": "markdown",
   "id": "4a6612de",
   "metadata": {},
   "source": [
    "<img src =\"img20.png\" width = \"800px\" height = \"500px\"></img>"
   ]
  }
 ],
 "metadata": {
  "kernelspec": {
   "display_name": "Python 3 (ipykernel)",
   "language": "python",
   "name": "python3"
  },
  "language_info": {
   "codemirror_mode": {
    "name": "ipython",
    "version": 3
   },
   "file_extension": ".py",
   "mimetype": "text/x-python",
   "name": "python",
   "nbconvert_exporter": "python",
   "pygments_lexer": "ipython3",
   "version": "3.9.12"
  }
 },
 "nbformat": 4,
 "nbformat_minor": 5
}
