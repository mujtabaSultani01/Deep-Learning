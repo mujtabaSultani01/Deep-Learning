{
 "cells": [
  {
   "cell_type": "markdown",
   "id": "9638a476",
   "metadata": {},
   "source": [
    "## Loss Function\n",
    "A loss function is a measure of how well a neural network can predict the expected output. It measures the difference between the predicted output and the expected output. Loss functions are used to help optimize the parameters of a neural network and can be used to measure the performance of a neural network during the training process. Popular loss functions in deep learning include Mean Squared Error, Cross Entropy Loss, and Hinge Loss.\n",
    "* The possible parameters which loss function can taks are:\n",
    "    1. sparse_categorical_crossentropy\n",
    "    2. binary_crossentropy\n",
    "    3. categorical_crossentropy\n",
    "    4. mean_absolute_error\n",
    "    5. mean_squared_error\n",
    "    \n",
    "    \n",
    "* For Logistic Regression we use 'Log Loss', we don't use Mean_Square_Error (MSE) or Mean_Absolute_Error (MAE). You can check it why we don't use MSE for Logistic Regression?"
   ]
  },
  {
   "cell_type": "markdown",
   "id": "7aedb6c2",
   "metadata": {},
   "source": [
    "<img src = \"losses.png\" width = \"800px\" height = \"600px\"></img>"
   ]
  },
  {
   "cell_type": "markdown",
   "id": "d87314c1",
   "metadata": {},
   "source": [
    "* **When we go through all the samples and find the Mean Square Error (MSE), it's called 1-epoch. See the bellow image:**"
   ]
  },
  {
   "cell_type": "markdown",
   "id": "53d08a6f",
   "metadata": {},
   "source": [
    "<img src = \"epoch1.png\" width = \"800px\" height = \"600px\"></img>"
   ]
  },
  {
   "cell_type": "code",
   "execution_count": 4,
   "id": "1b8c0801",
   "metadata": {},
   "outputs": [],
   "source": [
    "# Now let's see the three 'Loss' function, how they work?\n",
    "import numpy as np\n",
    "\n",
    "# Here we two numpy arrays, where we have five samples (the first one is the predicted value and the 2nd one is the true values.)\n",
    "y_predicted = np.array([1,1,0,0,1])\n",
    "y_true = np.array([0.30,0.7,1,0,0.5])"
   ]
  },
  {
   "cell_type": "code",
   "execution_count": 5,
   "id": "6ad9e16a",
   "metadata": {},
   "outputs": [],
   "source": [
    "# We first implement the MAE function, so we define the function and it will takes two parameters y_predicted and the true values.\n",
    "# We go through both this array by loop using zip function \n",
    "def mae (y_true, y_predicted):\n",
    "    total_error = 0\n",
    "    for yt, yp in zip(y_true, y_predicted):\n",
    "        print(yt, yp)    # To print the values"
   ]
  },
  {
   "cell_type": "code",
   "execution_count": 6,
   "id": "aaf1a1c8",
   "metadata": {},
   "outputs": [
    {
     "name": "stdout",
     "output_type": "stream",
     "text": [
      "0.3 1\n",
      "0.7 1\n",
      "1.0 0\n",
      "0.0 0\n",
      "0.5 1\n"
     ]
    }
   ],
   "source": [
    "# Call to the function to print the values for checking:\n",
    "mae(y_true, y_predicted)"
   ]
  },
  {
   "cell_type": "code",
   "execution_count": 10,
   "id": "5468d2c8",
   "metadata": {},
   "outputs": [],
   "source": [
    "# So we get the abolute error using python 'abs' and we add it to total_error in each iteration:\n",
    "def mae (y_true, y_predicted):\n",
    "    total_error = 0\n",
    "    for yt, yp in zip(y_true, y_predicted):\n",
    "        total_error += abs(yt - yp)\n",
    "    print(\"Total error: \", total_error)\n",
    "    mae = total_error / len(y_predicted)   # Returen the mean of errors\n",
    "    print(\"MAE: \", mae)"
   ]
  },
  {
   "cell_type": "code",
   "execution_count": 11,
   "id": "ca8b5ebe",
   "metadata": {},
   "outputs": [
    {
     "name": "stdout",
     "output_type": "stream",
     "text": [
      "Total error:  2.5\n",
      "MAE:  0.5\n"
     ]
    }
   ],
   "source": [
    "# Let's see what happen:\n",
    "mae(y_true, y_predicted)"
   ]
  },
  {
   "cell_type": "code",
   "execution_count": 12,
   "id": "3fde625a",
   "metadata": {},
   "outputs": [
    {
     "data": {
      "text/plain": [
       "array([ 0.7,  0.3, -1. ,  0. ,  0.5])"
      ]
     },
     "execution_count": 12,
     "metadata": {},
     "output_type": "execute_result"
    }
   ],
   "source": [
    "# So upper we use for loop, but numpy support vector operations very easily, so we can define the same function using numpy:\n",
    "# If you have numpy array you can do:\n",
    "y_predicted - y_true  # It's giving you the real differece."
   ]
  },
  {
   "cell_type": "code",
   "execution_count": 13,
   "id": "e18185dd",
   "metadata": {},
   "outputs": [
    {
     "data": {
      "text/plain": [
       "array([0.7, 0.3, 1. , 0. , 0.5])"
      ]
     },
     "execution_count": 13,
     "metadata": {},
     "output_type": "execute_result"
    }
   ],
   "source": [
    "# But if you use 'abs', it will give you the absolute error:\n",
    "np.abs(y_predicted - y_true)"
   ]
  },
  {
   "cell_type": "code",
   "execution_count": 14,
   "id": "7d7354d8",
   "metadata": {},
   "outputs": [
    {
     "data": {
      "text/plain": [
       "0.5"
      ]
     },
     "execution_count": 14,
     "metadata": {},
     "output_type": "execute_result"
    }
   ],
   "source": [
    "# And Mean Absolute Error is the absolute difference, so you can just take the mean of it:\n",
    "np.mean(np.abs(y_predicted - y_true))"
   ]
  },
  {
   "cell_type": "code",
   "execution_count": 15,
   "id": "8d6bb9f0",
   "metadata": {},
   "outputs": [
    {
     "data": {
      "text/plain": [
       "2.5"
      ]
     },
     "execution_count": 15,
     "metadata": {},
     "output_type": "execute_result"
    }
   ],
   "source": [
    "# If you want to get total errors, you can take sum of it:\n",
    "np.sum(np.abs(y_predicted - y_true))"
   ]
  },
  {
   "cell_type": "markdown",
   "id": "4fcc042d",
   "metadata": {},
   "source": [
    "* So we see, we did the whole loop in just one line. This is the power of numpy."
   ]
  },
  {
   "cell_type": "code",
   "execution_count": 16,
   "id": "1d720e4b",
   "metadata": {},
   "outputs": [
    {
     "name": "stderr",
     "output_type": "stream",
     "text": [
      "C:\\Users\\Habib\\AppData\\Local\\Temp\\ipykernel_268\\3356517921.py:4: RuntimeWarning: divide by zero encountered in log\n",
      "  np.log([0])\n"
     ]
    },
    {
     "data": {
      "text/plain": [
       "array([-inf])"
      ]
     },
     "execution_count": 16,
     "metadata": {},
     "output_type": "execute_result"
    }
   ],
   "source": [
    "# To implement Log loss or binary cross entropy, for that we need to know about log() function, let's see if we take log of \n",
    "# zero, it will not give an answer and will say that log of zero (log[0]) is not defined. So we need to take a number which \n",
    "# which is close to zero.\n",
    "np.log([0])"
   ]
  },
  {
   "cell_type": "code",
   "execution_count": 17,
   "id": "ffea167f",
   "metadata": {},
   "outputs": [
    {
     "data": {
      "text/plain": [
       "array([-39.14394658])"
      ]
     },
     "execution_count": 17,
     "metadata": {},
     "output_type": "execute_result"
    }
   ],
   "source": [
    "# If we do:\n",
    "np.log([0.00000000000000001])  # this will be fine."
   ]
  },
  {
   "cell_type": "code",
   "execution_count": 20,
   "id": "2b3bb4dc",
   "metadata": {},
   "outputs": [],
   "source": [
    "# So in log loss function we define the zero with a number which is very close to zero. Again if you see in the formula we \n",
    "# have log(1 - y_predicted), so if we have 1 in the y_predicted, it will agian create a problem. So for that we need to \n",
    "# define eplison first which could be very colse to 0.\n",
    "epsilon = 1e-16"
   ]
  },
  {
   "cell_type": "code",
   "execution_count": 21,
   "id": "16d6d3b5",
   "metadata": {},
   "outputs": [
    {
     "data": {
      "text/plain": [
       "[1, 1, 1e-16, 1e-16, 1]"
      ]
     },
     "execution_count": 21,
     "metadata": {},
     "output_type": "execute_result"
    }
   ],
   "source": [
    "# So here what we do is, we replace all the values in y_predicted which is 1 to a value which is close to 1 but not 1. \n",
    "# Similarly we replace the 0 value into a number which is close to zero but not zero.\n",
    "# For y_predicted, we'll go over all the values using loop. (list comprehension in python)\n",
    "y_predicted_new = [max(i, eplison) for i in y_predicted] # Will replace all 0's close to 0.\n",
    "y_predicted_new"
   ]
  },
  {
   "cell_type": "code",
   "execution_count": 22,
   "id": "7949bd17",
   "metadata": {},
   "outputs": [
    {
     "data": {
      "text/plain": [
       "[0.9999999999999999, 0.9999999999999999, 1e-16, 1e-16, 0.9999999999999999]"
      ]
     },
     "execution_count": 22,
     "metadata": {},
     "output_type": "execute_result"
    }
   ],
   "source": [
    "# Let's do the same for changing 1 into close to 1:\n",
    "y_predicted_new = [min(i, 1 - eplison) for i in y_predicted_new] # Will replace all 1's close to 1.\n",
    "y_predicted_new"
   ]
  },
  {
   "cell_type": "code",
   "execution_count": 23,
   "id": "355d2877",
   "metadata": {},
   "outputs": [
    {
     "data": {
      "text/plain": [
       "array([-1.11022302e-16, -1.11022302e-16, -3.68413615e+01, -3.68413615e+01,\n",
       "       -1.11022302e-16])"
      ]
     },
     "execution_count": 23,
     "metadata": {},
     "output_type": "execute_result"
    }
   ],
   "source": [
    "# Now if we take the log of y_predicted_new, it won't generate an error:\n",
    "y_predicted_new = np.array(y_predicted_new)\n",
    "np.log(y_predicted_new)"
   ]
  },
  {
   "cell_type": "code",
   "execution_count": 24,
   "id": "234065b3",
   "metadata": {},
   "outputs": [
    {
     "name": "stderr",
     "output_type": "stream",
     "text": [
      "C:\\Users\\Habib\\AppData\\Local\\Temp\\ipykernel_268\\2288550834.py:2: RuntimeWarning: divide by zero encountered in log\n",
      "  np.log(y_predicted)\n"
     ]
    },
    {
     "data": {
      "text/plain": [
       "array([  0.,   0., -inf, -inf,   0.])"
      ]
     },
     "execution_count": 24,
     "metadata": {},
     "output_type": "execute_result"
    }
   ],
   "source": [
    "# If we take the log of the original y_predicted, it will give us some infinit values, so because of this reason we create\n",
    "# a numpy array.\n",
    "np.log(y_predicted)"
   ]
  },
  {
   "cell_type": "code",
   "execution_count": 26,
   "id": "76b38eaa",
   "metadata": {},
   "outputs": [
    {
     "data": {
      "text/plain": [
       "18.389312468484075"
      ]
     },
     "execution_count": 26,
     "metadata": {},
     "output_type": "execute_result"
    }
   ],
   "source": [
    "# So now for implementing the log loss, we use the log loss formula which will give you the log loss:\n",
    "-np.mean(y_true*np.log(y_predicted_new)+(1-y_true)*np.log(1-y_predicted_new))"
   ]
  },
  {
   "cell_type": "code",
   "execution_count": 27,
   "id": "e75c96a0",
   "metadata": {},
   "outputs": [],
   "source": [
    "# So here the above process is defined in a single function called 'log_loss':\n",
    "def log_loss(y_true, y_predicted):\n",
    "    epsilon=1e-16\n",
    "    y_predicted_new = [max(i,epsilon) for i in y_predicted]\n",
    "    y_predicted_new = [min(i,1-epsilon) for i in y_predicted_new]\n",
    "    y_predicted_new = np.array(y_predicted_new)\n",
    "    return -np.mean(y_true*np.log(y_predicted_new)+(1-y_true)*np.log(1-y_predicted_new))"
   ]
  },
  {
   "cell_type": "code",
   "execution_count": 28,
   "id": "17135ee8",
   "metadata": {},
   "outputs": [
    {
     "data": {
      "text/plain": [
       "18.389312468484075"
      ]
     },
     "execution_count": 28,
     "metadata": {},
     "output_type": "execute_result"
    }
   ],
   "source": [
    "# Now when we call the function, it will give us the log loss:\n",
    "log_loss(y_true, y_predicted)"
   ]
  },
  {
   "cell_type": "markdown",
   "id": "3f5c900b",
   "metadata": {},
   "source": [
    "### Exercise\n",
    "Implement mean squared error (or MSE) in two ways,\n",
    "\n",
    "    1. Without using numpy (i.e. using plain python)\n",
    "    2. With the use of numpy"
   ]
  },
  {
   "cell_type": "code",
   "execution_count": 33,
   "id": "3749ca5d",
   "metadata": {},
   "outputs": [
    {
     "name": "stdout",
     "output_type": "stream",
     "text": [
      "Total Generated Squared Error is:  1.83\n",
      "Mean Squared Error is:  0.366\n"
     ]
    }
   ],
   "source": [
    "# So to implement MSe using plain python, we define a general method which takes both the arrays. Then same as MAE we create\n",
    "# loop to read both arrays using zip function. Then we calculate the total_erros using MSE function. As result we print the \n",
    "# Total errors and MSE:\n",
    "\n",
    "def mse(y_true, y_predicted):\n",
    "    total_error = 0\n",
    "    for yt, yp in zip(y_true, y_predicted):\n",
    "        total_error += (yt-yp)**2\n",
    "    print(\"Total Generated Squared Error is: \", total_error)\n",
    "    mse = total_error/len(y_predicted)\n",
    "    print(\"Mean Squared Error is: \", mse)\n",
    "    \n",
    "mse(y_true, y_predicted)"
   ]
  },
  {
   "cell_type": "code",
   "execution_count": 34,
   "id": "4cf662fa",
   "metadata": {},
   "outputs": [
    {
     "data": {
      "text/plain": [
       "0.366"
      ]
     },
     "execution_count": 34,
     "metadata": {},
     "output_type": "execute_result"
    }
   ],
   "source": [
    "# Now using numpy array we'll do using numpy 'square' function as follow:\n",
    "np.mean(np.square(y_true - y_predicted))"
   ]
  },
  {
   "cell_type": "markdown",
   "id": "4f48b5b1",
   "metadata": {},
   "source": [
    "* **Thats were all about Loss function...**"
   ]
  }
 ],
 "metadata": {
  "kernelspec": {
   "display_name": "Python 3 (ipykernel)",
   "language": "python",
   "name": "python3"
  },
  "language_info": {
   "codemirror_mode": {
    "name": "ipython",
    "version": 3
   },
   "file_extension": ".py",
   "mimetype": "text/x-python",
   "name": "python",
   "nbconvert_exporter": "python",
   "pygments_lexer": "ipython3",
   "version": "3.9.12"
  }
 },
 "nbformat": 4,
 "nbformat_minor": 5
}
