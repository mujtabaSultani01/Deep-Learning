{
 "cells": [
  {
   "cell_type": "markdown",
   "id": "fc64ba59",
   "metadata": {},
   "source": [
    "## Matrix Related Concepts\n",
    "A **matrix** is a rectangular array of numbers, symbols, or expressions, arranged in rows and columns. It is typically used to represent linear equations or systems of linear equations. Matrices are widely used in mathematics, science, engineering, and other fields.\n",
    "\n",
    "**Matrix addition and subtraction** are mathematical operations that involve adding or subtracting two matrices. The matrices must have the same dimensions in order for the operation to work. Matrix addition involves adding the corresponding elements of the two matrices together. Matrix subtraction involves subtracting the corresponding elements of the two matrices.\n",
    "\n",
    "**Matrix multiplication** is a process of multiplying two matrices together. This is done by multiplying the elements in each row of the first matrix by the elements in each column of the second matrix. The result is a new matrix that contains the products of the multiplications.\n",
    "\n",
    "A **dot product** is a type of matrix multiplication in which the rows of the first matrix are multiplied by the columns of the second matrix and the resulting sum is the dot product. The dot product is used in linear algebra and vector calculus to calculate the angle between two vectors and their magnitude."
   ]
  },
  {
   "cell_type": "code",
   "execution_count": 1,
   "id": "28e61e40",
   "metadata": {},
   "outputs": [],
   "source": [
    "# Let's implement these concept using python numpy array. Numpy array is a model that allows you to do matrix manipulation.\n",
    "import numpy as np"
   ]
  },
  {
   "cell_type": "code",
   "execution_count": 2,
   "id": "44fdbb48",
   "metadata": {},
   "outputs": [],
   "source": [
    "# To represent the revenue and expenses of different items of a company in a matrix, we use numpy array which is look like \n",
    "# matrix and then we find profit or loss from that numpy arrays (matrices).\n",
    "revenue = np.array([[180,200,220],[24,36,40],[12,18,20]])\n",
    "expenses = np.array([[80,90,100],[10,16,20],[8,10,10]])"
   ]
  },
  {
   "cell_type": "code",
   "execution_count": 3,
   "id": "4304c08d",
   "metadata": {},
   "outputs": [
    {
     "data": {
      "text/plain": [
       "array([[100, 110, 120],\n",
       "       [ 14,  20,  20],\n",
       "       [  4,   8,  10]])"
      ]
     },
     "execution_count": 3,
     "metadata": {},
     "output_type": "execute_result"
    }
   ],
   "source": [
    "# This is the power of numpy that can support mathematical operations between different dimensions arrays:\n",
    "profit = revenue - expenses\n",
    "profit"
   ]
  },
  {
   "cell_type": "code",
   "execution_count": 4,
   "id": "d2dcf91a",
   "metadata": {},
   "outputs": [],
   "source": [
    "# Now to do the same thing for unit sold representation:\n",
    "price_per_unit = np.array([1000,400,1200])\n",
    "units = np.array([[30,40,50],[5,10,15],[2,5,7]])"
   ]
  },
  {
   "cell_type": "code",
   "execution_count": 5,
   "id": "151b023c",
   "metadata": {},
   "outputs": [
    {
     "data": {
      "text/plain": [
       "array([[30000, 16000, 60000],\n",
       "       [ 5000,  4000, 18000],\n",
       "       [ 2000,  2000,  8400]])"
      ]
     },
     "execution_count": 5,
     "metadata": {},
     "output_type": "execute_result"
    }
   ],
   "source": [
    "# So to calculate the total amount of sold items, we do simply multiplication:\n",
    "price_per_unit * units"
   ]
  },
  {
   "cell_type": "code",
   "execution_count": 7,
   "id": "7295ead3",
   "metadata": {},
   "outputs": [
    {
     "data": {
      "text/plain": [
       "array([34400, 50000, 64400])"
      ]
     },
     "execution_count": 7,
     "metadata": {},
     "output_type": "execute_result"
    }
   ],
   "source": [
    "# To calculate the dot product of all units related to price_per_unit, numpy provid a function called 'dot()' which cand do \n",
    "# that for us:\n",
    "np.dot(price_per_unit, units)"
   ]
  },
  {
   "cell_type": "markdown",
   "id": "5344142b",
   "metadata": {},
   "source": [
    "### Exercise: Matrix Math\n",
    "1. Below is some indian companies revenues in US dollars. Using numpy can you convert this into Indian rupees? 1 USD = 75 INR"
   ]
  },
  {
   "cell_type": "markdown",
   "id": "4e259f4c",
   "metadata": {},
   "source": [
    "<img src = \"revenue_usd.jpg\" width = \"400px\" height = \"400px\"></img>"
   ]
  },
  {
   "cell_type": "markdown",
   "id": "c5706f13",
   "metadata": {},
   "source": [
    "2. Divine flowers is a flower shop that sells different type of flowers. Below is the table showing how many flowers of each type they sold in different months. Also given are the prices of one flower each. Using this find out their total sales in every month."
   ]
  },
  {
   "cell_type": "markdown",
   "id": "0d1af88d",
   "metadata": {},
   "source": [
    "<img src = \"flowers.jpg\" width = \"600px\" height = \"500px\"></img>"
   ]
  },
  {
   "cell_type": "code",
   "execution_count": 24,
   "id": "94317c0c",
   "metadata": {},
   "outputs": [],
   "source": [
    "# First let's create the numpy array:\n",
    "price_per_unit_doller = 75\n",
    "revenue_us_dollers = np.array([[200,220,250],[68,79,105],[110,140,180],[80,85,90]])"
   ]
  },
  {
   "cell_type": "code",
   "execution_count": 25,
   "id": "f6516744",
   "metadata": {},
   "outputs": [
    {
     "data": {
      "text/plain": [
       "array([[15000, 16500, 18750],\n",
       "       [ 5100,  5925,  7875],\n",
       "       [ 8250, 10500, 13500],\n",
       "       [ 6000,  6375,  6750]])"
      ]
     },
     "execution_count": 25,
     "metadata": {},
     "output_type": "execute_result"
    }
   ],
   "source": [
    "# Now to change the companies revenue into INR:\n",
    "revenue_inr = price_per_unit_doller * revenue_us_dollers\n",
    "revenue_inr"
   ]
  },
  {
   "cell_type": "code",
   "execution_count": 21,
   "id": "c1202dec",
   "metadata": {},
   "outputs": [],
   "source": [
    "# So before calculating total sales of flowers per each month, we need to create numpy arrays for 'Units Sold' and 'Price per unit' matrices:\n",
    "price_per_unit = np.array([20, 30, 15])\n",
    "unit_sold = np.array([[50,260,25],[10,13,5],[40,70,52]])"
   ]
  },
  {
   "cell_type": "code",
   "execution_count": 23,
   "id": "14ccca25",
   "metadata": {},
   "outputs": [
    {
     "data": {
      "text/plain": [
       "array([1900, 6640, 1430])"
      ]
     },
     "execution_count": 23,
     "metadata": {},
     "output_type": "execute_result"
    }
   ],
   "source": [
    "# To calculate the total sales of price on each month, so we use numpy dot function:\n",
    "total_sales_per_month = np.dot(price_per_unit, unit_sold)\n",
    "total_sales_per_month"
   ]
  },
  {
   "cell_type": "markdown",
   "id": "b847feec",
   "metadata": {},
   "source": [
    "* **Thats were all about matrices manipulation...**"
   ]
  }
 ],
 "metadata": {
  "kernelspec": {
   "display_name": "Python 3 (ipykernel)",
   "language": "python",
   "name": "python3"
  },
  "language_info": {
   "codemirror_mode": {
    "name": "ipython",
    "version": 3
   },
   "file_extension": ".py",
   "mimetype": "text/x-python",
   "name": "python",
   "nbconvert_exporter": "python",
   "pygments_lexer": "ipython3",
   "version": "3.9.12"
  }
 },
 "nbformat": 4,
 "nbformat_minor": 5
}
