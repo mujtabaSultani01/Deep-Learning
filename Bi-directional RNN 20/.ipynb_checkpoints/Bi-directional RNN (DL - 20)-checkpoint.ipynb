{
 "cells": [
  {
   "cell_type": "markdown",
   "id": "5f7b8d38",
   "metadata": {},
   "source": [
    "## Bi-directional RNN (BRNN)\n",
    "**Bi-directional RNN (BRNN)** is a type of recurrent neural network that takes both past and future information into account when making predictions. Unlike traditional RNNs, which only process data in one direction, BRNNs process data in both directions. This allows the model to capture long-term dependencies in the data and make more accurate predictions. BRNNs can be used for various tasks such as time series forecasting and natural language processing.\n",
    "\n",
    "The **main difference between simple RNNs and bi-directional RNNs (Bi-RNNs)** is that Bi-RNNs process data in both directions, taking both past and future information into account when making predictions. This allows the model to capture long-term dependencies in the data and make more accurate predictions. Simple RNNs only process data in one direction, making them less effective for tasks that require long-term memory."
   ]
  },
  {
   "cell_type": "markdown",
   "id": "ef6531ce",
   "metadata": {},
   "source": [
    "The concept of BRNN is defined in the following couple of images:"
   ]
  },
  {
   "cell_type": "markdown",
   "id": "cbfce65d",
   "metadata": {},
   "source": [
    "<img src = \"img.jpg\" width = \"900px\" height = \"600px\"></img>"
   ]
  },
  {
   "cell_type": "markdown",
   "id": "203c7545",
   "metadata": {},
   "source": [
    "<img src = \"img1.jpg\" width = \"900px\" height = \"600px\"></img>"
   ]
  }
 ],
 "metadata": {
  "kernelspec": {
   "display_name": "Python 3 (ipykernel)",
   "language": "python",
   "name": "python3"
  },
  "language_info": {
   "codemirror_mode": {
    "name": "ipython",
    "version": 3
   },
   "file_extension": ".py",
   "mimetype": "text/x-python",
   "name": "python",
   "nbconvert_exporter": "python",
   "pygments_lexer": "ipython3",
   "version": "3.9.12"
  }
 },
 "nbformat": 4,
 "nbformat_minor": 5
}
