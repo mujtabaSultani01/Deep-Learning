{
 "cells": [
  {
   "cell_type": "markdown",
   "id": "8b1772b8",
   "metadata": {},
   "source": [
    "## Gated Recurrent Unit (GRU)\n",
    "**GRU (Gated Recurrent Unit)** is a type of recurrent neural network that is used for sequence modeling. It is similar to Long Short-Term Memory (LSTM) networks but has fewer parameters, making it faster and more efficient. GRU consists of two gates: the update gate and the reset gate. The update gate decides what information should be stored in the memory cell, while the reset gate decides what information should be discarded. GRU can be used for various tasks such as classification, translation, and speech recognition.\n",
    "\n",
    "The main difference between LSTM and GRU is that LSTM has three components (memory cell, input gate, and output gate) while GRU only has two components (update gate and reset gate). LSTM networks are more complex and have more parameters than GRU networks, making them slower to train. However, they are better at capturing long-term dependencies in data. GRU networks are faster to train and more efficient, but are not as good at capturing long-term dependencies.\n",
    "\n",
    "GRU is the modified and light weight version of LSTM where it combines Long and Short Term memory into its hidden states. LSTM has hiddent states and cell states but GRU has only hidden state which combine both long and short memory."
   ]
  },
  {
   "cell_type": "markdown",
   "id": "378c959f",
   "metadata": {},
   "source": [
    "<img src = \"img.jpg\" width = \"900px\" height = \"800px\"></img>"
   ]
  },
  {
   "cell_type": "markdown",
   "id": "c12411a3",
   "metadata": {},
   "source": [
    "GRU has two gates:\n",
    "   \n",
    "    1. Update Gate\n",
    "    2. Reset Gate"
   ]
  },
  {
   "cell_type": "markdown",
   "id": "b01cd256",
   "metadata": {},
   "source": [
    "<img src = \"img1.jpg\" width = \"800px\" height = \"800px\"></img>"
   ]
  },
  {
   "cell_type": "markdown",
   "id": "5adf1810",
   "metadata": {},
   "source": [
    "**See** the following couple of images to know how **update and reset gates** works:"
   ]
  },
  {
   "cell_type": "markdown",
   "id": "8b8dfd78",
   "metadata": {},
   "source": [
    "<img src = \"img2.jpg\" width = \"900px\" height = \"800px\"></img>"
   ]
  },
  {
   "cell_type": "markdown",
   "id": "a2349a45",
   "metadata": {},
   "source": [
    "<img src = \"img3.jpg\" width = \"900px\" height = \"800px\"></img>"
   ]
  },
  {
   "cell_type": "markdown",
   "id": "d4afea99",
   "metadata": {},
   "source": [
    "* Next the **h(t-1), X(t), Z(t)** and **r(t)** values are use to produce the new hidden states as well as output. So the final GRU is look like:"
   ]
  },
  {
   "cell_type": "markdown",
   "id": "0dfe3c15",
   "metadata": {},
   "source": [
    "<img src = \"img4.jpg\" width = \"900px\" height = \"800px\"></img>"
   ]
  },
  {
   "cell_type": "code",
   "execution_count": null,
   "id": "ab7ea989",
   "metadata": {},
   "outputs": [],
   "source": []
  }
 ],
 "metadata": {
  "kernelspec": {
   "display_name": "Python 3 (ipykernel)",
   "language": "python",
   "name": "python3"
  },
  "language_info": {
   "codemirror_mode": {
    "name": "ipython",
    "version": 3
   },
   "file_extension": ".py",
   "mimetype": "text/x-python",
   "name": "python",
   "nbconvert_exporter": "python",
   "pygments_lexer": "ipython3",
   "version": "3.9.12"
  }
 },
 "nbformat": 4,
 "nbformat_minor": 5
}
