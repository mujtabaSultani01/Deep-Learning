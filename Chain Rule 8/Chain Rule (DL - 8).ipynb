{
 "cells": [
  {
   "cell_type": "markdown",
   "id": "9152ccd4",
   "metadata": {},
   "source": [
    "## Chain Rule Deep Learning\n",
    "The **chain rule** is a fundamental concept in calculus that is used to calculate derivatives of composite functions. In deep learning, the chain rule is used to calculate the gradients of the loss function with respect to the weights and biases of the network. The chain rule states that the derivative of a composite function can be calculated by multiplying the derivatives of each of its components. This allows us to backpropagate the error throughout the network, which is necessary for training the model.\n",
    "\n",
    "**Yes**, the chain rule is one of the most important topics in deep learning. It is used to calculate the gradients of the loss function with respect to the weights and biases of the network. This allows us to backpropagate the error throughout the network, which is necessary for training the model. Without the chain rule, it would be impossible to train a neural network."
   ]
  },
  {
   "cell_type": "markdown",
   "id": "c2bca6a9",
   "metadata": {},
   "source": [
    "<img src = \"chain_rule.png\" width = \"700px\" height = \"500px\"></img>"
   ]
  },
  {
   "cell_type": "markdown",
   "id": "3e8290d2",
   "metadata": {},
   "source": [
    "* **The whole idea is: by changing x how much my Z or y is changing? By this trial and error we try to decrease the errors and find the global optima.**\n",
    "* See the following pictures (how the calculation is done using chain rule concept). In the first image we take partial derivatives related to X and a, and in the second image we take partial derivatives related to X and b:"
   ]
  },
  {
   "cell_type": "markdown",
   "id": "f061d40b",
   "metadata": {},
   "source": [
    "<img src = \"1.png\" width = \"700px\" height = \"500px\"></img>"
   ]
  },
  {
   "cell_type": "markdown",
   "id": "1b7a94b7",
   "metadata": {},
   "source": [
    "<img src = \"2.png\" width = \"700px\" height = \"500px\"></img>"
   ]
  }
 ],
 "metadata": {
  "kernelspec": {
   "display_name": "Python 3 (ipykernel)",
   "language": "python",
   "name": "python3"
  },
  "language_info": {
   "codemirror_mode": {
    "name": "ipython",
    "version": 3
   },
   "file_extension": ".py",
   "mimetype": "text/x-python",
   "name": "python",
   "nbconvert_exporter": "python",
   "pygments_lexer": "ipython3",
   "version": "3.9.12"
  }
 },
 "nbformat": 4,
 "nbformat_minor": 5
}
